{
  "nbformat": 4,
  "nbformat_minor": 0,
  "metadata": {
    "colab": {
      "provenance": [],
      "authorship_tag": "ABX9TyO+KEYI3hlQuPBCDm7JZ5CP",
      "include_colab_link": true
    },
    "kernelspec": {
      "name": "python3",
      "display_name": "Python 3"
    },
    "language_info": {
      "name": "python"
    }
  },
  "cells": [
    {
      "cell_type": "markdown",
      "metadata": {
        "id": "view-in-github",
        "colab_type": "text"
      },
      "source": [
        "<a href=\"https://colab.research.google.com/github/Zen0007/apple_stock_market_prediction/blob/main/stock_prediction_v02.ipynb\" target=\"_parent\"><img src=\"https://colab.research.google.com/assets/colab-badge.svg\" alt=\"Open In Colab\"/></a>"
      ]
    },
    {
      "cell_type": "code",
      "execution_count": null,
      "metadata": {
        "id": "dElzfg5NxMP8"
      },
      "outputs": [],
      "source": [
        "import numpy as np\n",
        "from  numpy import hstack, array\n",
        "import pandas as pd\n",
        "import yfinance as yf\n",
        "from datetime import datetime\n",
        "from keras.models import Sequential\n",
        "from keras.layers import Dense,LSTM,Dropout\n",
        "from sklearn.model_selection import train_test_split\n",
        "from sklearn.preprocessing import MinMaxScaler\n",
        "import matplotlib.pyplot as plt\n",
        "plt.style.use('dark_background')"
      ]
    },
    {
      "cell_type": "code",
      "source": [
        "date = yf.download(\"AAPL\",start=\"2010-01-01\",end=datetime.now())\n",
        "data = pd.DataFrame(date)\n",
        "data.head()"
      ],
      "metadata": {
        "id": "C8-2JOi3yPzo",
        "colab": {
          "base_uri": "https://localhost:8080/",
          "height": 255
        },
        "outputId": "864f09c9-4186-47da-d593-780ff1a0b5c9"
      },
      "execution_count": null,
      "outputs": [
        {
          "output_type": "stream",
          "name": "stdout",
          "text": [
            "\r[*********************100%***********************]  1 of 1 completed\n"
          ]
        },
        {
          "output_type": "execute_result",
          "data": {
            "text/plain": [
              "                Open      High       Low     Close  Adj Close     Volume\n",
              "Date                                                                    \n",
              "2010-01-04  7.622500  7.660714  7.585000  7.643214   6.496295  493729600\n",
              "2010-01-05  7.664286  7.699643  7.616071  7.656429   6.507525  601904800\n",
              "2010-01-06  7.656429  7.686786  7.526786  7.534643   6.404015  552160000\n",
              "2010-01-07  7.562500  7.571429  7.466071  7.520714   6.392177  477131200\n",
              "2010-01-08  7.510714  7.571429  7.466429  7.570714   6.434672  447610800"
            ],
            "text/html": [
              "\n",
              "\n",
              "  <div id=\"df-3809761e-330d-4d7f-836e-bb12e9a3115d\">\n",
              "    <div class=\"colab-df-container\">\n",
              "      <div>\n",
              "<style scoped>\n",
              "    .dataframe tbody tr th:only-of-type {\n",
              "        vertical-align: middle;\n",
              "    }\n",
              "\n",
              "    .dataframe tbody tr th {\n",
              "        vertical-align: top;\n",
              "    }\n",
              "\n",
              "    .dataframe thead th {\n",
              "        text-align: right;\n",
              "    }\n",
              "</style>\n",
              "<table border=\"1\" class=\"dataframe\">\n",
              "  <thead>\n",
              "    <tr style=\"text-align: right;\">\n",
              "      <th></th>\n",
              "      <th>Open</th>\n",
              "      <th>High</th>\n",
              "      <th>Low</th>\n",
              "      <th>Close</th>\n",
              "      <th>Adj Close</th>\n",
              "      <th>Volume</th>\n",
              "    </tr>\n",
              "    <tr>\n",
              "      <th>Date</th>\n",
              "      <th></th>\n",
              "      <th></th>\n",
              "      <th></th>\n",
              "      <th></th>\n",
              "      <th></th>\n",
              "      <th></th>\n",
              "    </tr>\n",
              "  </thead>\n",
              "  <tbody>\n",
              "    <tr>\n",
              "      <th>2010-01-04</th>\n",
              "      <td>7.622500</td>\n",
              "      <td>7.660714</td>\n",
              "      <td>7.585000</td>\n",
              "      <td>7.643214</td>\n",
              "      <td>6.496295</td>\n",
              "      <td>493729600</td>\n",
              "    </tr>\n",
              "    <tr>\n",
              "      <th>2010-01-05</th>\n",
              "      <td>7.664286</td>\n",
              "      <td>7.699643</td>\n",
              "      <td>7.616071</td>\n",
              "      <td>7.656429</td>\n",
              "      <td>6.507525</td>\n",
              "      <td>601904800</td>\n",
              "    </tr>\n",
              "    <tr>\n",
              "      <th>2010-01-06</th>\n",
              "      <td>7.656429</td>\n",
              "      <td>7.686786</td>\n",
              "      <td>7.526786</td>\n",
              "      <td>7.534643</td>\n",
              "      <td>6.404015</td>\n",
              "      <td>552160000</td>\n",
              "    </tr>\n",
              "    <tr>\n",
              "      <th>2010-01-07</th>\n",
              "      <td>7.562500</td>\n",
              "      <td>7.571429</td>\n",
              "      <td>7.466071</td>\n",
              "      <td>7.520714</td>\n",
              "      <td>6.392177</td>\n",
              "      <td>477131200</td>\n",
              "    </tr>\n",
              "    <tr>\n",
              "      <th>2010-01-08</th>\n",
              "      <td>7.510714</td>\n",
              "      <td>7.571429</td>\n",
              "      <td>7.466429</td>\n",
              "      <td>7.570714</td>\n",
              "      <td>6.434672</td>\n",
              "      <td>447610800</td>\n",
              "    </tr>\n",
              "  </tbody>\n",
              "</table>\n",
              "</div>\n",
              "      <button class=\"colab-df-convert\" onclick=\"convertToInteractive('df-3809761e-330d-4d7f-836e-bb12e9a3115d')\"\n",
              "              title=\"Convert this dataframe to an interactive table.\"\n",
              "              style=\"display:none;\">\n",
              "\n",
              "  <svg xmlns=\"http://www.w3.org/2000/svg\" height=\"24px\"viewBox=\"0 0 24 24\"\n",
              "       width=\"24px\">\n",
              "    <path d=\"M0 0h24v24H0V0z\" fill=\"none\"/>\n",
              "    <path d=\"M18.56 5.44l.94 2.06.94-2.06 2.06-.94-2.06-.94-.94-2.06-.94 2.06-2.06.94zm-11 1L8.5 8.5l.94-2.06 2.06-.94-2.06-.94L8.5 2.5l-.94 2.06-2.06.94zm10 10l.94 2.06.94-2.06 2.06-.94-2.06-.94-.94-2.06-.94 2.06-2.06.94z\"/><path d=\"M17.41 7.96l-1.37-1.37c-.4-.4-.92-.59-1.43-.59-.52 0-1.04.2-1.43.59L10.3 9.45l-7.72 7.72c-.78.78-.78 2.05 0 2.83L4 21.41c.39.39.9.59 1.41.59.51 0 1.02-.2 1.41-.59l7.78-7.78 2.81-2.81c.8-.78.8-2.07 0-2.86zM5.41 20L4 18.59l7.72-7.72 1.47 1.35L5.41 20z\"/>\n",
              "  </svg>\n",
              "      </button>\n",
              "\n",
              "\n",
              "\n",
              "    <div id=\"df-d3d0ed2a-63aa-4387-9669-a29f67a64488\">\n",
              "      <button class=\"colab-df-quickchart\" onclick=\"quickchart('df-d3d0ed2a-63aa-4387-9669-a29f67a64488')\"\n",
              "              title=\"Suggest charts.\"\n",
              "              style=\"display:none;\">\n",
              "\n",
              "<svg xmlns=\"http://www.w3.org/2000/svg\" height=\"24px\"viewBox=\"0 0 24 24\"\n",
              "     width=\"24px\">\n",
              "    <g>\n",
              "        <path d=\"M19 3H5c-1.1 0-2 .9-2 2v14c0 1.1.9 2 2 2h14c1.1 0 2-.9 2-2V5c0-1.1-.9-2-2-2zM9 17H7v-7h2v7zm4 0h-2V7h2v10zm4 0h-2v-4h2v4z\"/>\n",
              "    </g>\n",
              "</svg>\n",
              "      </button>\n",
              "    </div>\n",
              "\n",
              "<style>\n",
              "  .colab-df-quickchart {\n",
              "    background-color: #E8F0FE;\n",
              "    border: none;\n",
              "    border-radius: 50%;\n",
              "    cursor: pointer;\n",
              "    display: none;\n",
              "    fill: #1967D2;\n",
              "    height: 32px;\n",
              "    padding: 0 0 0 0;\n",
              "    width: 32px;\n",
              "  }\n",
              "\n",
              "  .colab-df-quickchart:hover {\n",
              "    background-color: #E2EBFA;\n",
              "    box-shadow: 0px 1px 2px rgba(60, 64, 67, 0.3), 0px 1px 3px 1px rgba(60, 64, 67, 0.15);\n",
              "    fill: #174EA6;\n",
              "  }\n",
              "\n",
              "  [theme=dark] .colab-df-quickchart {\n",
              "    background-color: #3B4455;\n",
              "    fill: #D2E3FC;\n",
              "  }\n",
              "\n",
              "  [theme=dark] .colab-df-quickchart:hover {\n",
              "    background-color: #434B5C;\n",
              "    box-shadow: 0px 1px 3px 1px rgba(0, 0, 0, 0.15);\n",
              "    filter: drop-shadow(0px 1px 2px rgba(0, 0, 0, 0.3));\n",
              "    fill: #FFFFFF;\n",
              "  }\n",
              "</style>\n",
              "\n",
              "    <script>\n",
              "      async function quickchart(key) {\n",
              "        const containerElement = document.querySelector('#' + key);\n",
              "        const charts = await google.colab.kernel.invokeFunction(\n",
              "            'suggestCharts', [key], {});\n",
              "      }\n",
              "    </script>\n",
              "\n",
              "      <script>\n",
              "\n",
              "function displayQuickchartButton(domScope) {\n",
              "  let quickchartButtonEl =\n",
              "    domScope.querySelector('#df-d3d0ed2a-63aa-4387-9669-a29f67a64488 button.colab-df-quickchart');\n",
              "  quickchartButtonEl.style.display =\n",
              "    google.colab.kernel.accessAllowed ? 'block' : 'none';\n",
              "}\n",
              "\n",
              "        displayQuickchartButton(document);\n",
              "      </script>\n",
              "      <style>\n",
              "    .colab-df-container {\n",
              "      display:flex;\n",
              "      flex-wrap:wrap;\n",
              "      gap: 12px;\n",
              "    }\n",
              "\n",
              "    .colab-df-convert {\n",
              "      background-color: #E8F0FE;\n",
              "      border: none;\n",
              "      border-radius: 50%;\n",
              "      cursor: pointer;\n",
              "      display: none;\n",
              "      fill: #1967D2;\n",
              "      height: 32px;\n",
              "      padding: 0 0 0 0;\n",
              "      width: 32px;\n",
              "    }\n",
              "\n",
              "    .colab-df-convert:hover {\n",
              "      background-color: #E2EBFA;\n",
              "      box-shadow: 0px 1px 2px rgba(60, 64, 67, 0.3), 0px 1px 3px 1px rgba(60, 64, 67, 0.15);\n",
              "      fill: #174EA6;\n",
              "    }\n",
              "\n",
              "    [theme=dark] .colab-df-convert {\n",
              "      background-color: #3B4455;\n",
              "      fill: #D2E3FC;\n",
              "    }\n",
              "\n",
              "    [theme=dark] .colab-df-convert:hover {\n",
              "      background-color: #434B5C;\n",
              "      box-shadow: 0px 1px 3px 1px rgba(0, 0, 0, 0.15);\n",
              "      filter: drop-shadow(0px 1px 2px rgba(0, 0, 0, 0.3));\n",
              "      fill: #FFFFFF;\n",
              "    }\n",
              "  </style>\n",
              "\n",
              "      <script>\n",
              "        const buttonEl =\n",
              "          document.querySelector('#df-3809761e-330d-4d7f-836e-bb12e9a3115d button.colab-df-convert');\n",
              "        buttonEl.style.display =\n",
              "          google.colab.kernel.accessAllowed ? 'block' : 'none';\n",
              "\n",
              "        async function convertToInteractive(key) {\n",
              "          const element = document.querySelector('#df-3809761e-330d-4d7f-836e-bb12e9a3115d');\n",
              "          const dataTable =\n",
              "            await google.colab.kernel.invokeFunction('convertToInteractive',\n",
              "                                                     [key], {});\n",
              "          if (!dataTable) return;\n",
              "\n",
              "          const docLinkHtml = 'Like what you see? Visit the ' +\n",
              "            '<a target=\"_blank\" href=https://colab.research.google.com/notebooks/data_table.ipynb>data table notebook</a>'\n",
              "            + ' to learn more about interactive tables.';\n",
              "          element.innerHTML = '';\n",
              "          dataTable['output_type'] = 'display_data';\n",
              "          await google.colab.output.renderOutput(dataTable, element);\n",
              "          const docLink = document.createElement('div');\n",
              "          docLink.innerHTML = docLinkHtml;\n",
              "          element.appendChild(docLink);\n",
              "        }\n",
              "      </script>\n",
              "    </div>\n",
              "  </div>\n"
            ]
          },
          "metadata": {},
          "execution_count": 841
        }
      ]
    },
    {
      "cell_type": "code",
      "source": [
        "#data.drop(data.columns[[1,2,4,5]],axis=1,inplace=True)\n",
        "data.tail()"
      ],
      "metadata": {
        "id": "KKTAzKCKpRzf",
        "colab": {
          "base_uri": "https://localhost:8080/",
          "height": 238
        },
        "outputId": "f80c18d7-16cd-4f34-ed6a-65e6f989bd06"
      },
      "execution_count": null,
      "outputs": [
        {
          "output_type": "execute_result",
          "data": {
            "text/plain": [
              "                  Open        High         Low       Close   Adj Close  \\\n",
              "Date                                                                     \n",
              "2023-07-06  189.839996  192.020004  189.199997  191.809998  191.809998   \n",
              "2023-07-07  191.410004  192.669998  190.240005  190.679993  190.679993   \n",
              "2023-07-10  189.259995  189.990005  187.039993  188.610001  188.610001   \n",
              "2023-07-11  189.160004  189.300003  186.600006  188.080002  188.080002   \n",
              "2023-07-12  189.679993  191.699997  188.470001  189.770004  189.770004   \n",
              "\n",
              "              Volume  \n",
              "Date                  \n",
              "2023-07-06  45094300  \n",
              "2023-07-07  46778000  \n",
              "2023-07-10  59922200  \n",
              "2023-07-11  46638100  \n",
              "2023-07-12  60690100  "
            ],
            "text/html": [
              "\n",
              "\n",
              "  <div id=\"df-9272b27f-1269-432c-9fcb-27f06d3b08f5\">\n",
              "    <div class=\"colab-df-container\">\n",
              "      <div>\n",
              "<style scoped>\n",
              "    .dataframe tbody tr th:only-of-type {\n",
              "        vertical-align: middle;\n",
              "    }\n",
              "\n",
              "    .dataframe tbody tr th {\n",
              "        vertical-align: top;\n",
              "    }\n",
              "\n",
              "    .dataframe thead th {\n",
              "        text-align: right;\n",
              "    }\n",
              "</style>\n",
              "<table border=\"1\" class=\"dataframe\">\n",
              "  <thead>\n",
              "    <tr style=\"text-align: right;\">\n",
              "      <th></th>\n",
              "      <th>Open</th>\n",
              "      <th>High</th>\n",
              "      <th>Low</th>\n",
              "      <th>Close</th>\n",
              "      <th>Adj Close</th>\n",
              "      <th>Volume</th>\n",
              "    </tr>\n",
              "    <tr>\n",
              "      <th>Date</th>\n",
              "      <th></th>\n",
              "      <th></th>\n",
              "      <th></th>\n",
              "      <th></th>\n",
              "      <th></th>\n",
              "      <th></th>\n",
              "    </tr>\n",
              "  </thead>\n",
              "  <tbody>\n",
              "    <tr>\n",
              "      <th>2023-07-06</th>\n",
              "      <td>189.839996</td>\n",
              "      <td>192.020004</td>\n",
              "      <td>189.199997</td>\n",
              "      <td>191.809998</td>\n",
              "      <td>191.809998</td>\n",
              "      <td>45094300</td>\n",
              "    </tr>\n",
              "    <tr>\n",
              "      <th>2023-07-07</th>\n",
              "      <td>191.410004</td>\n",
              "      <td>192.669998</td>\n",
              "      <td>190.240005</td>\n",
              "      <td>190.679993</td>\n",
              "      <td>190.679993</td>\n",
              "      <td>46778000</td>\n",
              "    </tr>\n",
              "    <tr>\n",
              "      <th>2023-07-10</th>\n",
              "      <td>189.259995</td>\n",
              "      <td>189.990005</td>\n",
              "      <td>187.039993</td>\n",
              "      <td>188.610001</td>\n",
              "      <td>188.610001</td>\n",
              "      <td>59922200</td>\n",
              "    </tr>\n",
              "    <tr>\n",
              "      <th>2023-07-11</th>\n",
              "      <td>189.160004</td>\n",
              "      <td>189.300003</td>\n",
              "      <td>186.600006</td>\n",
              "      <td>188.080002</td>\n",
              "      <td>188.080002</td>\n",
              "      <td>46638100</td>\n",
              "    </tr>\n",
              "    <tr>\n",
              "      <th>2023-07-12</th>\n",
              "      <td>189.679993</td>\n",
              "      <td>191.699997</td>\n",
              "      <td>188.470001</td>\n",
              "      <td>189.770004</td>\n",
              "      <td>189.770004</td>\n",
              "      <td>60690100</td>\n",
              "    </tr>\n",
              "  </tbody>\n",
              "</table>\n",
              "</div>\n",
              "      <button class=\"colab-df-convert\" onclick=\"convertToInteractive('df-9272b27f-1269-432c-9fcb-27f06d3b08f5')\"\n",
              "              title=\"Convert this dataframe to an interactive table.\"\n",
              "              style=\"display:none;\">\n",
              "\n",
              "  <svg xmlns=\"http://www.w3.org/2000/svg\" height=\"24px\"viewBox=\"0 0 24 24\"\n",
              "       width=\"24px\">\n",
              "    <path d=\"M0 0h24v24H0V0z\" fill=\"none\"/>\n",
              "    <path d=\"M18.56 5.44l.94 2.06.94-2.06 2.06-.94-2.06-.94-.94-2.06-.94 2.06-2.06.94zm-11 1L8.5 8.5l.94-2.06 2.06-.94-2.06-.94L8.5 2.5l-.94 2.06-2.06.94zm10 10l.94 2.06.94-2.06 2.06-.94-2.06-.94-.94-2.06-.94 2.06-2.06.94z\"/><path d=\"M17.41 7.96l-1.37-1.37c-.4-.4-.92-.59-1.43-.59-.52 0-1.04.2-1.43.59L10.3 9.45l-7.72 7.72c-.78.78-.78 2.05 0 2.83L4 21.41c.39.39.9.59 1.41.59.51 0 1.02-.2 1.41-.59l7.78-7.78 2.81-2.81c.8-.78.8-2.07 0-2.86zM5.41 20L4 18.59l7.72-7.72 1.47 1.35L5.41 20z\"/>\n",
              "  </svg>\n",
              "      </button>\n",
              "\n",
              "\n",
              "\n",
              "    <div id=\"df-f0c9b28c-2f95-497d-9c3d-15daa9668a0f\">\n",
              "      <button class=\"colab-df-quickchart\" onclick=\"quickchart('df-f0c9b28c-2f95-497d-9c3d-15daa9668a0f')\"\n",
              "              title=\"Suggest charts.\"\n",
              "              style=\"display:none;\">\n",
              "\n",
              "<svg xmlns=\"http://www.w3.org/2000/svg\" height=\"24px\"viewBox=\"0 0 24 24\"\n",
              "     width=\"24px\">\n",
              "    <g>\n",
              "        <path d=\"M19 3H5c-1.1 0-2 .9-2 2v14c0 1.1.9 2 2 2h14c1.1 0 2-.9 2-2V5c0-1.1-.9-2-2-2zM9 17H7v-7h2v7zm4 0h-2V7h2v10zm4 0h-2v-4h2v4z\"/>\n",
              "    </g>\n",
              "</svg>\n",
              "      </button>\n",
              "    </div>\n",
              "\n",
              "<style>\n",
              "  .colab-df-quickchart {\n",
              "    background-color: #E8F0FE;\n",
              "    border: none;\n",
              "    border-radius: 50%;\n",
              "    cursor: pointer;\n",
              "    display: none;\n",
              "    fill: #1967D2;\n",
              "    height: 32px;\n",
              "    padding: 0 0 0 0;\n",
              "    width: 32px;\n",
              "  }\n",
              "\n",
              "  .colab-df-quickchart:hover {\n",
              "    background-color: #E2EBFA;\n",
              "    box-shadow: 0px 1px 2px rgba(60, 64, 67, 0.3), 0px 1px 3px 1px rgba(60, 64, 67, 0.15);\n",
              "    fill: #174EA6;\n",
              "  }\n",
              "\n",
              "  [theme=dark] .colab-df-quickchart {\n",
              "    background-color: #3B4455;\n",
              "    fill: #D2E3FC;\n",
              "  }\n",
              "\n",
              "  [theme=dark] .colab-df-quickchart:hover {\n",
              "    background-color: #434B5C;\n",
              "    box-shadow: 0px 1px 3px 1px rgba(0, 0, 0, 0.15);\n",
              "    filter: drop-shadow(0px 1px 2px rgba(0, 0, 0, 0.3));\n",
              "    fill: #FFFFFF;\n",
              "  }\n",
              "</style>\n",
              "\n",
              "    <script>\n",
              "      async function quickchart(key) {\n",
              "        const containerElement = document.querySelector('#' + key);\n",
              "        const charts = await google.colab.kernel.invokeFunction(\n",
              "            'suggestCharts', [key], {});\n",
              "      }\n",
              "    </script>\n",
              "\n",
              "      <script>\n",
              "\n",
              "function displayQuickchartButton(domScope) {\n",
              "  let quickchartButtonEl =\n",
              "    domScope.querySelector('#df-f0c9b28c-2f95-497d-9c3d-15daa9668a0f button.colab-df-quickchart');\n",
              "  quickchartButtonEl.style.display =\n",
              "    google.colab.kernel.accessAllowed ? 'block' : 'none';\n",
              "}\n",
              "\n",
              "        displayQuickchartButton(document);\n",
              "      </script>\n",
              "      <style>\n",
              "    .colab-df-container {\n",
              "      display:flex;\n",
              "      flex-wrap:wrap;\n",
              "      gap: 12px;\n",
              "    }\n",
              "\n",
              "    .colab-df-convert {\n",
              "      background-color: #E8F0FE;\n",
              "      border: none;\n",
              "      border-radius: 50%;\n",
              "      cursor: pointer;\n",
              "      display: none;\n",
              "      fill: #1967D2;\n",
              "      height: 32px;\n",
              "      padding: 0 0 0 0;\n",
              "      width: 32px;\n",
              "    }\n",
              "\n",
              "    .colab-df-convert:hover {\n",
              "      background-color: #E2EBFA;\n",
              "      box-shadow: 0px 1px 2px rgba(60, 64, 67, 0.3), 0px 1px 3px 1px rgba(60, 64, 67, 0.15);\n",
              "      fill: #174EA6;\n",
              "    }\n",
              "\n",
              "    [theme=dark] .colab-df-convert {\n",
              "      background-color: #3B4455;\n",
              "      fill: #D2E3FC;\n",
              "    }\n",
              "\n",
              "    [theme=dark] .colab-df-convert:hover {\n",
              "      background-color: #434B5C;\n",
              "      box-shadow: 0px 1px 3px 1px rgba(0, 0, 0, 0.15);\n",
              "      filter: drop-shadow(0px 1px 2px rgba(0, 0, 0, 0.3));\n",
              "      fill: #FFFFFF;\n",
              "    }\n",
              "  </style>\n",
              "\n",
              "      <script>\n",
              "        const buttonEl =\n",
              "          document.querySelector('#df-9272b27f-1269-432c-9fcb-27f06d3b08f5 button.colab-df-convert');\n",
              "        buttonEl.style.display =\n",
              "          google.colab.kernel.accessAllowed ? 'block' : 'none';\n",
              "\n",
              "        async function convertToInteractive(key) {\n",
              "          const element = document.querySelector('#df-9272b27f-1269-432c-9fcb-27f06d3b08f5');\n",
              "          const dataTable =\n",
              "            await google.colab.kernel.invokeFunction('convertToInteractive',\n",
              "                                                     [key], {});\n",
              "          if (!dataTable) return;\n",
              "\n",
              "          const docLinkHtml = 'Like what you see? Visit the ' +\n",
              "            '<a target=\"_blank\" href=https://colab.research.google.com/notebooks/data_table.ipynb>data table notebook</a>'\n",
              "            + ' to learn more about interactive tables.';\n",
              "          element.innerHTML = '';\n",
              "          dataTable['output_type'] = 'display_data';\n",
              "          await google.colab.output.renderOutput(dataTable, element);\n",
              "          const docLink = document.createElement('div');\n",
              "          docLink.innerHTML = docLinkHtml;\n",
              "          element.appendChild(docLink);\n",
              "        }\n",
              "      </script>\n",
              "    </div>\n",
              "  </div>\n"
            ]
          },
          "metadata": {},
          "execution_count": 842
        }
      ]
    },
    {
      "cell_type": "code",
      "source": [
        "df = data['Close'].values\n",
        "df"
      ],
      "metadata": {
        "colab": {
          "base_uri": "https://localhost:8080/"
        },
        "id": "yqu3dhSsVD4N",
        "outputId": "3508a959-6264-4f2d-c73a-7971d1639a19"
      },
      "execution_count": null,
      "outputs": [
        {
          "output_type": "execute_result",
          "data": {
            "text/plain": [
              "array([  7.64321423,   7.65642881,   7.53464317, ..., 188.61000061,\n",
              "       188.08000183, 189.77000427])"
            ]
          },
          "metadata": {},
          "execution_count": 843
        }
      ]
    },
    {
      "cell_type": "code",
      "source": [
        "lstm_traning = int(np.ceil(len(df)*.95))\n",
        "lstm_traning"
      ],
      "metadata": {
        "colab": {
          "base_uri": "https://localhost:8080/"
        },
        "id": "a29Sk0M-_9Ms",
        "outputId": "e4b394cf-5046-4bc8-cbab-4c63161e66c3"
      },
      "execution_count": null,
      "outputs": [
        {
          "output_type": "execute_result",
          "data": {
            "text/plain": [
              "3233"
            ]
          },
          "metadata": {},
          "execution_count": 844
        }
      ]
    },
    {
      "cell_type": "code",
      "source": [
        "lstm_train1 = data.iloc[0:int(lstm_traning),0:1].values\n",
        "lstm_train2 = data.iloc[0:int(lstm_traning),1:2].values\n",
        "lstm_train3 = data.iloc[0:int(lstm_traning),2:3].values\n",
        "lstm_train4 = data.iloc[0:int(lstm_traning),3:4].values\n",
        "len(lstm_train1)"
      ],
      "metadata": {
        "colab": {
          "base_uri": "https://localhost:8080/"
        },
        "id": "LOdd5zZhC7st",
        "outputId": "78104bce-a79f-4b7d-b2f3-31adeae432a6"
      },
      "execution_count": null,
      "outputs": [
        {
          "output_type": "execute_result",
          "data": {
            "text/plain": [
              "3233"
            ]
          },
          "metadata": {},
          "execution_count": 845
        }
      ]
    },
    {
      "cell_type": "code",
      "source": [
        "lstm_test1 = data.iloc[lstm_traning -60:,0:1].values\n",
        "lstm_test2 = data.iloc[lstm_traning -60:,1:2].values\n",
        "lstm_test3 = data.iloc[lstm_traning -60:,2:3].values\n",
        "lstm_test4 = data.iloc[lstm_traning -60:,3:4].values\n",
        "len(lstm_test1)"
      ],
      "metadata": {
        "colab": {
          "base_uri": "https://localhost:8080/"
        },
        "id": "GeRRwdcJEw6z",
        "outputId": "e9c17492-fcfb-46f1-cef1-22c32df50474"
      },
      "execution_count": null,
      "outputs": [
        {
          "output_type": "execute_result",
          "data": {
            "text/plain": [
              "230"
            ]
          },
          "metadata": {},
          "execution_count": 846
        }
      ]
    },
    {
      "cell_type": "code",
      "source": [
        "lstm_input_train1 = lstm_train1.reshape(len(lstm_train1),1)\n",
        "lstm_input_train2 = lstm_train2.reshape(len(lstm_train2),1)\n",
        "lstm_input_train3 = lstm_train3.reshape(len(lstm_train3),1)\n",
        "lstm_input_train4 = lstm_train4.reshape(len(lstm_train4),1)\n",
        "len(lstm_input_train1)"
      ],
      "metadata": {
        "colab": {
          "base_uri": "https://localhost:8080/"
        },
        "id": "TX1HHFAjGbSL",
        "outputId": "6448a5b6-f2ea-445a-954d-5b8edebb613c"
      },
      "execution_count": null,
      "outputs": [
        {
          "output_type": "execute_result",
          "data": {
            "text/plain": [
              "3233"
            ]
          },
          "metadata": {},
          "execution_count": 847
        }
      ]
    },
    {
      "cell_type": "code",
      "source": [
        "lstm_input_test1 = lstm_test1.reshape(len(lstm_test1),1)\n",
        "lstm_input_test2 = lstm_test2.reshape(len(lstm_test2),1)\n",
        "lstm_input_test3 = lstm_test2.reshape(len(lstm_test3),1)\n",
        "lstm_input_test4 = lstm_test2.reshape(len(lstm_test4),1)\n",
        "len(lstm_input_test1)"
      ],
      "metadata": {
        "colab": {
          "base_uri": "https://localhost:8080/"
        },
        "id": "9vmVNm4PIj4G",
        "outputId": "067f9e3a-848c-42fb-ea76-6454b907b7d2"
      },
      "execution_count": null,
      "outputs": [
        {
          "output_type": "execute_result",
          "data": {
            "text/plain": [
              "230"
            ]
          },
          "metadata": {},
          "execution_count": 848
        }
      ]
    },
    {
      "cell_type": "code",
      "source": [
        "train_dataset = hstack((lstm_input_train1,lstm_input_train2,lstm_input_train3,lstm_input_train4))\n",
        "train_dataset"
      ],
      "metadata": {
        "colab": {
          "base_uri": "https://localhost:8080/"
        },
        "id": "r2k2EaWbKIj-",
        "outputId": "d81c1293-bd78-41d6-e6f1-b5059c002cab"
      },
      "execution_count": null,
      "outputs": [
        {
          "output_type": "execute_result",
          "data": {
            "text/plain": [
              "array([[  7.62249994,   7.66071415,   7.58500004,   7.64321423],\n",
              "       [  7.66428614,   7.69964314,   7.61607122,   7.65642881],\n",
              "       [  7.65642881,   7.68678617,   7.52678585,   7.53464317],\n",
              "       ...,\n",
              "       [155.08000183, 155.44999695, 149.13000488, 150.6499939 ],\n",
              "       [148.94999695, 152.16999817, 145.        , 145.02999878],\n",
              "       [142.05999756, 142.80000305, 138.75      , 138.88000488]])"
            ]
          },
          "metadata": {},
          "execution_count": 849
        }
      ]
    },
    {
      "cell_type": "code",
      "source": [
        "test_dataset = hstack((lstm_input_test1,lstm_input_test2,lstm_input_test3,lstm_input_test4))\n",
        "test_dataset"
      ],
      "metadata": {
        "colab": {
          "base_uri": "https://localhost:8080/"
        },
        "id": "NubLJOSKOLNs",
        "outputId": "9d78dc18-b104-4084-bcb8-3bfb27065cd6"
      },
      "execution_count": null,
      "outputs": [
        {
          "output_type": "execute_result",
          "data": {
            "text/plain": [
              "array([[170.05999756, 170.99000549, 170.99000549, 170.99000549],\n",
              "       [169.82000732, 172.16999817, 172.16999817, 172.16999817],\n",
              "       [171.52000427, 173.38999939, 173.38999939, 173.38999939],\n",
              "       [172.77999878, 173.71000671, 173.71000671, 173.71000671],\n",
              "       [172.77000427, 176.1499939 , 176.1499939 , 176.1499939 ],\n",
              "       [173.75      , 174.8999939 , 174.8999939 , 174.8999939 ],\n",
              "       [173.02999878, 173.74000549, 173.74000549, 173.74000549],\n",
              "       [169.69000244, 169.86000061, 169.86000061, 169.86000061],\n",
              "       [167.08000183, 168.71000671, 168.71000671, 168.71000671],\n",
              "       [167.32000732, 168.11000061, 168.11000061, 168.11000061],\n",
              "       [168.77999878, 170.13999939, 170.13999939, 170.13999939],\n",
              "       [170.57000732, 171.05000305, 171.05000305, 171.05000305],\n",
              "       [161.1499939 , 162.8999939 , 162.8999939 , 162.8999939 ],\n",
              "       [162.13000488, 162.55999756, 162.55999756, 162.55999756],\n",
              "       [160.30999756, 160.58000183, 160.58000183, 160.58000183],\n",
              "       [156.63999939, 158.41999817, 158.41999817, 158.41999817],\n",
              "       [159.75      , 160.36000061, 160.36000061, 160.36000061],\n",
              "       [156.47000122, 157.08999634, 157.08999634, 157.08999634],\n",
              "       [154.82000732, 156.66999817, 156.66999817, 156.66999817],\n",
              "       [154.63999939, 156.36000061, 156.36000061, 156.36000061],\n",
              "       [155.47000122, 157.82000732, 157.82000732, 157.82000732],\n",
              "       [159.58999634, 164.25999451, 164.25999451, 164.25999451],\n",
              "       [159.8999939 , 160.53999329, 160.53999329, 160.53999329],\n",
              "       [154.78999329, 157.1000061 , 157.1000061 , 157.1000061 ],\n",
              "       [154.6499939 , 155.24000549, 155.24000549, 155.24000549],\n",
              "       [151.21000671, 151.3500061 , 151.3500061 , 151.3500061 ],\n",
              "       [149.30999756, 154.55999756, 154.55999756, 154.55999756],\n",
              "       [153.3999939 , 158.08000183, 158.08000183, 158.08000183],\n",
              "       [157.33999634, 158.74000549, 158.74000549, 158.74000549],\n",
              "       [152.38000488, 154.47000122, 154.47000122, 154.47000122],\n",
              "       [151.19000244, 151.47000122, 151.47000122, 151.47000122],\n",
              "       [149.66000366, 153.77000427, 153.77000427, 153.77000427],\n",
              "       [152.74000549, 154.72000122, 154.72000122, 154.72000122],\n",
              "       [147.63999939, 150.63999939, 150.63999939, 150.63999939],\n",
              "       [146.1000061 , 146.72000122, 146.72000122, 146.72000122],\n",
              "       [141.27999878, 143.1000061 , 143.1000061 , 143.1000061 ],\n",
              "       [138.21000671, 143.07000732, 143.07000732, 143.07000732],\n",
              "       [145.02999878, 146.22000122, 146.22000122, 146.22000122],\n",
              "       [144.07000732, 147.38000488, 147.38000488, 147.38000488],\n",
              "       [145.80999756, 147.53999329, 147.53999329, 147.53999329],\n",
              "       [142.53999329, 143.1000061 , 143.1000061 , 143.1000061 ],\n",
              "       [140.41999817, 141.88999939, 141.88999939, 141.88999939],\n",
              "       [139.8999939 , 141.3500061 , 141.3500061 , 141.3500061 ],\n",
              "       [139.13000488, 140.36000061, 140.36000061, 140.36000061],\n",
              "       [134.99000549, 143.58999634, 143.58999634, 143.58999634],\n",
              "       [144.30999756, 144.52000427, 144.52000427, 144.52000427],\n",
              "       [141.07000732, 142.8999939 , 142.8999939 , 142.8999939 ],\n",
              "       [145.49000549, 146.69999695, 146.69999695, 146.69999695],\n",
              "       [141.69000244, 144.94999695, 144.94999695, 144.94999695],\n",
              "       [143.02000427, 145.88999939, 145.88999939, 145.88999939],\n",
              "       [142.86999512, 147.8500061 , 147.8500061 , 147.8500061 ],\n",
              "       [147.19000244, 150.22999573, 150.22999573, 150.22999573],\n",
              "       [150.08999634, 152.49000549, 152.49000549, 152.49000549],\n",
              "       [150.96000671, 151.99000549, 151.99000549, 151.99000549],\n",
              "       [148.07000732, 149.05000305, 149.05000305, 149.05000305],\n",
              "       [148.19999695, 157.5       , 157.5       , 157.5       ],\n",
              "       [153.16000366, 154.24000549, 154.24000549, 154.24000549],\n",
              "       [155.08000183, 155.44999695, 155.44999695, 155.44999695],\n",
              "       [148.94999695, 152.16999817, 152.16999817, 152.16999817],\n",
              "       [142.05999756, 142.80000305, 142.80000305, 142.80000305],\n",
              "       [142.08999634, 142.66999817, 142.66999817, 142.66999817],\n",
              "       [137.11000061, 139.1499939 , 139.1499939 , 139.1499939 ],\n",
              "       [140.41000366, 141.42999268, 141.42999268, 141.42999268],\n",
              "       [138.5       , 138.55000305, 138.55000305, 138.55000305],\n",
              "       [141.24000549, 146.86999512, 146.86999512, 146.86999512],\n",
              "       [145.82000732, 150.00999451, 150.00999451, 150.00999451],\n",
              "       [148.97000122, 150.27999878, 150.27999878, 150.27999878],\n",
              "       [152.22000122, 153.58999634, 153.58999634, 153.58999634],\n",
              "       [149.13000488, 149.86999512, 149.86999512, 149.86999512],\n",
              "       [146.42999268, 151.47999573, 151.47999573, 151.47999573],\n",
              "       [152.30999756, 152.69999695, 152.69999695, 152.69999695],\n",
              "       [150.16000366, 150.36999512, 150.36999512, 150.36999512],\n",
              "       [148.13000488, 150.41999817, 150.41999817, 150.41999817],\n",
              "       [149.44999695, 151.83000183, 151.83000183, 151.83000183],\n",
              "       [148.30999756, 148.88000488, 148.88000488, 148.88000488],\n",
              "       [145.13999939, 146.63999939, 146.63999939, 146.63999939],\n",
              "       [144.28999329, 144.80999756, 144.80999756, 144.80999756],\n",
              "       [141.3999939 , 148.72000122, 148.72000122, 148.72000122],\n",
              "       [148.21000671, 149.13000488, 149.13000488, 149.13000488],\n",
              "       [145.96000671, 148.        , 148.        , 148.        ],\n",
              "       [147.77000427, 150.91999817, 150.91999817, 150.91999817],\n",
              "       [147.07000732, 147.30000305, 147.30000305, 147.30000305],\n",
              "       [142.19000244, 143.36999512, 143.36999512, 143.36999512],\n",
              "       [142.36000061, 143.52000427, 143.52000427, 143.52000427],\n",
              "       [142.33999634, 145.57000732, 145.57000732, 145.57000732],\n",
              "       [142.69999695, 144.5       , 144.5       , 144.5       ],\n",
              "       [149.5       , 149.97000122, 149.97000122, 149.97000122],\n",
              "       [145.3500061 , 146.66000366, 146.66000366, 146.66000366],\n",
              "       [141.11000061, 141.80000305, 141.80000305, 141.80000305],\n",
              "       [136.69000244, 137.6499939 , 137.6499939 , 137.6499939 ],\n",
              "       [135.11000061, 135.19999695, 135.19999695, 135.19999695],\n",
              "       [131.38999939, 133.25      , 133.25      , 133.25      ],\n",
              "       [132.97999573, 136.80999756, 136.80999756, 136.80999756],\n",
              "       [134.3500061 , 134.55999756, 134.55999756, 134.55999756],\n",
              "       [130.91999817, 132.41999817, 132.41999817, 132.41999817],\n",
              "       [131.38000488, 131.41000366, 131.41000366, 131.41000366],\n",
              "       [129.66999817, 131.02999878, 131.02999878, 131.02999878],\n",
              "       [127.98999786, 130.47999573, 130.47999573, 130.47999573],\n",
              "       [128.41000366, 129.94999695, 129.94999695, 129.94999695],\n",
              "       [130.27999878, 130.8999939 , 130.8999939 , 130.8999939 ],\n",
              "       [126.88999939, 128.66000366, 128.66000366, 128.66000366],\n",
              "       [127.12999725, 127.76999664, 127.76999664, 127.76999664],\n",
              "       [126.01000214, 130.28999329, 130.28999329, 130.28999329],\n",
              "       [130.47000122, 133.41000366, 133.41000366, 133.41000366],\n",
              "       [130.25999451, 131.25999451, 131.25999451, 131.25999451],\n",
              "       [131.25      , 133.50999451, 133.50999451, 133.50999451],\n",
              "       [133.88000488, 134.25999451, 134.25999451, 134.25999451],\n",
              "       [132.02999878, 134.91999817, 134.91999817, 134.91999817],\n",
              "       [134.83000183, 137.28999329, 137.28999329, 137.28999329],\n",
              "       [136.82000732, 138.61000061, 138.61000061, 138.61000061],\n",
              "       [134.08000183, 136.25      , 136.25      , 136.25      ],\n",
              "       [135.27999878, 138.02000427, 138.02000427, 138.02000427],\n",
              "       [138.11999512, 143.32000732, 143.32000732, 143.32000732],\n",
              "       [140.30999756, 143.16000366, 143.16000366, 143.16000366],\n",
              "       [140.88999939, 142.42999268, 142.42999268, 142.42999268],\n",
              "       [143.16999817, 144.25      , 144.25      , 144.25      ],\n",
              "       [143.16000366, 147.22999573, 147.22999573, 147.22999573],\n",
              "       [144.96000671, 145.55000305, 145.55000305, 145.55000305],\n",
              "       [142.69999695, 144.33999634, 144.33999634, 144.33999634],\n",
              "       [143.97000122, 146.61000061, 146.61000061, 146.61000061],\n",
              "       [148.8999939 , 151.17999268, 151.17999268, 151.17999268],\n",
              "       [148.02999878, 157.38000488, 157.38000488, 157.38000488],\n",
              "       [152.57000732, 153.1000061 , 153.1000061 , 153.1000061 ],\n",
              "       [150.63999939, 155.22999573, 155.22999573, 155.22999573],\n",
              "       [153.88000488, 154.58000183, 154.58000183, 154.58000183],\n",
              "       [153.77999878, 154.33000183, 154.33000183, 154.33000183],\n",
              "       [149.46000671, 151.33999634, 151.33999634, 151.33999634],\n",
              "       [150.94999695, 154.25999451, 154.25999451, 154.25999451],\n",
              "       [152.11999512, 153.77000427, 153.77000427, 153.77000427],\n",
              "       [153.11000061, 155.5       , 155.5       , 155.5       ],\n",
              "       [153.50999451, 156.33000183, 156.33000183, 156.33000183],\n",
              "       [152.3500061 , 153.        , 153.        , 153.        ],\n",
              "       [150.19999695, 151.30000305, 151.30000305, 151.30000305],\n",
              "       [148.86999512, 149.94999695, 149.94999695, 149.94999695],\n",
              "       [150.08999634, 150.33999634, 150.33999634, 150.33999634],\n",
              "       [147.11000061, 147.19000244, 147.19000244, 147.19000244],\n",
              "       [147.71000671, 149.16999817, 149.16999817, 149.16999817],\n",
              "       [147.05000305, 149.08000183, 149.08000183, 149.08000183],\n",
              "       [146.83000183, 147.22999573, 147.22999573, 147.22999573],\n",
              "       [144.38000488, 146.71000671, 146.71000671, 146.71000671],\n",
              "       [148.03999329, 151.11000061, 151.11000061, 151.11000061],\n",
              "       [153.78999329, 156.30000305, 156.30000305, 156.30000305],\n",
              "       [153.69999695, 154.02999878, 154.02999878, 154.02999878],\n",
              "       [152.80999756, 153.47000122, 153.47000122, 153.47000122],\n",
              "       [153.55999756, 154.53999329, 154.53999329, 154.53999329],\n",
              "       [150.21000671, 150.94000244, 150.94000244, 150.94000244],\n",
              "       [147.80999756, 153.13999939, 153.13999939, 153.13999939],\n",
              "       [151.27999878, 153.3999939 , 153.3999939 , 153.3999939 ],\n",
              "       [151.19000244, 153.25      , 153.25      , 153.25      ],\n",
              "       [152.16000366, 156.46000671, 156.46000671, 156.46000671],\n",
              "       [156.08000183, 156.74000549, 156.74000549, 156.74000549],\n",
              "       [155.07000732, 157.82000732, 157.82000732, 157.82000732],\n",
              "       [157.32000732, 159.3999939 , 159.3999939 , 159.3999939 ],\n",
              "       [159.30000305, 162.13999939, 162.13999939, 162.13999939],\n",
              "       [158.83000183, 161.55000305, 161.55000305, 161.55000305],\n",
              "       [158.86000061, 160.33999634, 160.33999634, 160.33999634],\n",
              "       [159.94000244, 160.77000427, 160.77000427, 160.77000427],\n",
              "       [157.97000122, 158.49000549, 158.49000549, 158.49000549],\n",
              "       [159.36999512, 161.05000305, 161.05000305, 161.05000305],\n",
              "       [161.52999878, 162.47000122, 162.47000122, 162.47000122],\n",
              "       [162.44000244, 165.        , 165.        , 165.        ],\n",
              "       [164.27000427, 166.28999329, 166.28999329, 166.28999329],\n",
              "       [166.6000061 , 166.83999634, 166.83999634, 166.83999634],\n",
              "       [164.74000549, 165.05000305, 165.05000305, 165.05000305],\n",
              "       [162.42999268, 164.96000671, 164.96000671, 164.96000671],\n",
              "       [161.41999817, 162.02999878, 162.02999878, 162.02999878],\n",
              "       [162.3500061 , 162.36000061, 162.36000061, 162.36000061],\n",
              "       [161.22000122, 162.05999756, 162.05999756, 162.05999756],\n",
              "       [161.63000488, 165.80000305, 165.80000305, 165.80000305],\n",
              "       [164.58999634, 166.32000732, 166.32000732, 166.32000732],\n",
              "       [165.08999634, 165.38999939, 165.38999939, 165.38999939],\n",
              "       [166.1000061 , 167.41000366, 167.41000366, 167.41000366],\n",
              "       [165.80000305, 168.16000366, 168.16000366, 168.16000366],\n",
              "       [166.08999634, 167.86999512, 167.86999512, 167.86999512],\n",
              "       [165.05000305, 166.44999695, 166.44999695, 166.44999695],\n",
              "       [165.        , 165.6000061 , 165.6000061 , 165.6000061 ],\n",
              "       [165.19000244, 166.30999756, 166.30999756, 166.30999756],\n",
              "       [163.05999756, 165.27999878, 165.27999878, 165.27999878],\n",
              "       [165.19000244, 168.55999756, 168.55999756, 168.55999756],\n",
              "       [168.49000549, 169.8500061 , 169.8500061 , 169.8500061 ],\n",
              "       [169.27999878, 170.44999695, 170.44999695, 170.44999695],\n",
              "       [170.08999634, 170.3500061 , 170.3500061 , 170.3500061 ],\n",
              "       [169.5       , 170.91999817, 170.91999817, 170.91999817],\n",
              "       [164.88999939, 167.03999329, 167.03999329, 167.03999329],\n",
              "       [170.97999573, 174.30000305, 174.30000305, 174.30000305],\n",
              "       [172.47999573, 173.8500061 , 173.8500061 , 173.8500061 ],\n",
              "       [173.05000305, 173.53999329, 173.53999329, 173.53999329],\n",
              "       [173.02000427, 174.02999878, 174.02999878, 174.02999878],\n",
              "       [173.8500061 , 174.58999634, 174.58999634, 174.58999634],\n",
              "       [173.61999512, 174.05999756, 174.05999756, 174.05999756],\n",
              "       [173.16000366, 173.21000671, 173.21000671, 173.21000671],\n",
              "       [171.99000549, 173.13999939, 173.13999939, 173.13999939],\n",
              "       [171.71000671, 172.92999268, 172.92999268, 172.92999268],\n",
              "       [173.        , 175.24000549, 175.24000549, 175.24000549],\n",
              "       [176.38999939, 176.38999939, 176.38999939, 176.38999939],\n",
              "       [173.97999573, 174.71000671, 174.71000671, 174.71000671],\n",
              "       [173.13000488, 173.38000488, 173.38000488, 173.38000488],\n",
              "       [171.08999634, 172.41999817, 172.41999817, 172.41999817],\n",
              "       [172.41000366, 173.8999939 , 173.8999939 , 173.8999939 ],\n",
              "       [173.32000732, 175.77000427, 175.77000427, 175.77000427],\n",
              "       [176.96000671, 178.99000549, 178.99000549, 178.99000549],\n",
              "       [177.33000183, 179.3500061 , 179.3500061 , 179.3500061 ],\n",
              "       [177.69999695, 180.11999512, 180.11999512, 180.11999512],\n",
              "       [181.02999878, 181.77999878, 181.77999878, 181.77999878],\n",
              "       [182.63000488, 184.94999695, 184.94999695, 184.94999695],\n",
              "       [179.97000122, 180.11999512, 180.11999512, 180.11999512],\n",
              "       [178.44000244, 181.21000671, 181.21000671, 181.21000671],\n",
              "       [177.8999939 , 180.83999634, 180.83999634, 180.83999634],\n",
              "       [181.5       , 182.22999573, 182.22999573, 182.22999573],\n",
              "       [181.27000427, 183.88999939, 183.88999939, 183.88999939],\n",
              "       [182.80000305, 184.1499939 , 184.1499939 , 184.1499939 ],\n",
              "       [183.36999512, 184.38999939, 184.38999939, 184.38999939],\n",
              "       [183.96000671, 186.52000427, 186.52000427, 186.52000427],\n",
              "       [186.72999573, 186.99000549, 186.99000549, 186.99000549],\n",
              "       [184.41000366, 186.1000061 , 186.1000061 , 186.1000061 ],\n",
              "       [184.8999939 , 185.41000366, 185.41000366, 185.41000366],\n",
              "       [183.74000549, 187.05000305, 187.05000305, 187.05000305],\n",
              "       [185.55000305, 187.55999756, 187.55999756, 187.55999756],\n",
              "       [186.83000183, 188.05000305, 188.05000305, 188.05000305],\n",
              "       [185.88999939, 188.38999939, 188.38999939, 188.38999939],\n",
              "       [187.92999268, 189.8999939 , 189.8999939 , 189.8999939 ],\n",
              "       [189.08000183, 190.07000732, 190.07000732, 190.07000732],\n",
              "       [191.63000488, 194.47999573, 194.47999573, 194.47999573],\n",
              "       [193.77999878, 193.88000488, 193.88000488, 193.88000488],\n",
              "       [191.57000732, 192.97999573, 192.97999573, 192.97999573],\n",
              "       [189.83999634, 192.02000427, 192.02000427, 192.02000427],\n",
              "       [191.41000366, 192.66999817, 192.66999817, 192.66999817],\n",
              "       [189.25999451, 189.99000549, 189.99000549, 189.99000549],\n",
              "       [189.16000366, 189.30000305, 189.30000305, 189.30000305],\n",
              "       [189.67999268, 191.69999695, 191.69999695, 191.69999695]])"
            ]
          },
          "metadata": {},
          "execution_count": 850
        }
      ]
    },
    {
      "cell_type": "code",
      "source": [
        "def veriyi_bol(veri, n_steps):\n",
        "    X, y = [], []\n",
        "    for i in range(len(veri) - n_steps + 1):\n",
        "        end_ix = i + n_steps\n",
        "        seq_x, seq_y = veri[i:end_ix, :-1], veri[end_ix-1, -1]\n",
        "        X.append(seq_x)\n",
        "        y.append(seq_y)\n",
        "    return np.array(X), np.array(y)"
      ],
      "metadata": {
        "id": "GUKDA_zOOvHu"
      },
      "execution_count": null,
      "outputs": []
    },
    {
      "cell_type": "code",
      "source": [
        "n_steps = 5"
      ],
      "metadata": {
        "id": "ThxFg93ZQZip"
      },
      "execution_count": null,
      "outputs": []
    },
    {
      "cell_type": "code",
      "source": [
        "x_train,y_train = veriyi_bol(train_dataset,n_steps)\n",
        "x_train"
      ],
      "metadata": {
        "colab": {
          "base_uri": "https://localhost:8080/"
        },
        "id": "ak1Yqpj7Qr-D",
        "outputId": "9d1c0b92-ad04-440c-fa89-ae193ffa4aa4"
      },
      "execution_count": null,
      "outputs": [
        {
          "output_type": "execute_result",
          "data": {
            "text/plain": [
              "array([[[  7.62249994,   7.66071415,   7.58500004],\n",
              "        [  7.66428614,   7.69964314,   7.61607122],\n",
              "        [  7.65642881,   7.68678617,   7.52678585],\n",
              "        [  7.5625    ,   7.57142878,   7.46607113],\n",
              "        [  7.51071405,   7.57142878,   7.46642923]],\n",
              "\n",
              "       [[  7.66428614,   7.69964314,   7.61607122],\n",
              "        [  7.65642881,   7.68678617,   7.52678585],\n",
              "        [  7.5625    ,   7.57142878,   7.46607113],\n",
              "        [  7.51071405,   7.57142878,   7.46642923],\n",
              "        [  7.5999999 ,   7.60714293,   7.44464302]],\n",
              "\n",
              "       [[  7.65642881,   7.68678617,   7.52678585],\n",
              "        [  7.5625    ,   7.57142878,   7.46607113],\n",
              "        [  7.51071405,   7.57142878,   7.46642923],\n",
              "        [  7.5999999 ,   7.60714293,   7.44464302],\n",
              "        [  7.47107077,   7.491786  ,   7.37214279]],\n",
              "\n",
              "       ...,\n",
              "\n",
              "       [[150.96000671, 151.99000549, 148.03999329],\n",
              "        [148.07000732, 149.05000305, 144.13000488],\n",
              "        [148.19999695, 157.5       , 147.82000732],\n",
              "        [153.16000366, 154.24000549, 151.91999817],\n",
              "        [155.08000183, 155.44999695, 149.13000488]],\n",
              "\n",
              "       [[148.07000732, 149.05000305, 144.13000488],\n",
              "        [148.19999695, 157.5       , 147.82000732],\n",
              "        [153.16000366, 154.24000549, 151.91999817],\n",
              "        [155.08000183, 155.44999695, 149.13000488],\n",
              "        [148.94999695, 152.16999817, 145.        ]],\n",
              "\n",
              "       [[148.19999695, 157.5       , 147.82000732],\n",
              "        [153.16000366, 154.24000549, 151.91999817],\n",
              "        [155.08000183, 155.44999695, 149.13000488],\n",
              "        [148.94999695, 152.16999817, 145.        ],\n",
              "        [142.05999756, 142.80000305, 138.75      ]]])"
            ]
          },
          "metadata": {},
          "execution_count": 853
        }
      ]
    },
    {
      "cell_type": "code",
      "source": [
        "y_train"
      ],
      "metadata": {
        "colab": {
          "base_uri": "https://localhost:8080/"
        },
        "id": "_z4o6cclpUf9",
        "outputId": "42915b38-1d54-4cf5-f692-f8db357e8937"
      },
      "execution_count": null,
      "outputs": [
        {
          "output_type": "execute_result",
          "data": {
            "text/plain": [
              "array([  7.570714  ,   7.50392914,   7.418571  , ..., 150.6499939 ,\n",
              "       145.02999878, 138.88000488])"
            ]
          },
          "metadata": {},
          "execution_count": 854
        }
      ]
    },
    {
      "cell_type": "code",
      "source": [
        "x_test,y_test = veriyi_bol(test_dataset,n_steps)\n",
        "x_test"
      ],
      "metadata": {
        "colab": {
          "base_uri": "https://localhost:8080/"
        },
        "id": "s1hFYit5pa97",
        "outputId": "9a1fb680-6ef5-406a-8bd8-3fc8107c6004"
      },
      "execution_count": null,
      "outputs": [
        {
          "output_type": "execute_result",
          "data": {
            "text/plain": [
              "array([[[170.05999756, 170.99000549, 170.99000549],\n",
              "        [169.82000732, 172.16999817, 172.16999817],\n",
              "        [171.52000427, 173.38999939, 173.38999939],\n",
              "        [172.77999878, 173.71000671, 173.71000671],\n",
              "        [172.77000427, 176.1499939 , 176.1499939 ]],\n",
              "\n",
              "       [[169.82000732, 172.16999817, 172.16999817],\n",
              "        [171.52000427, 173.38999939, 173.38999939],\n",
              "        [172.77999878, 173.71000671, 173.71000671],\n",
              "        [172.77000427, 176.1499939 , 176.1499939 ],\n",
              "        [173.75      , 174.8999939 , 174.8999939 ]],\n",
              "\n",
              "       [[171.52000427, 173.38999939, 173.38999939],\n",
              "        [172.77999878, 173.71000671, 173.71000671],\n",
              "        [172.77000427, 176.1499939 , 176.1499939 ],\n",
              "        [173.75      , 174.8999939 , 174.8999939 ],\n",
              "        [173.02999878, 173.74000549, 173.74000549]],\n",
              "\n",
              "       ...,\n",
              "\n",
              "       [[193.77999878, 193.88000488, 193.88000488],\n",
              "        [191.57000732, 192.97999573, 192.97999573],\n",
              "        [189.83999634, 192.02000427, 192.02000427],\n",
              "        [191.41000366, 192.66999817, 192.66999817],\n",
              "        [189.25999451, 189.99000549, 189.99000549]],\n",
              "\n",
              "       [[191.57000732, 192.97999573, 192.97999573],\n",
              "        [189.83999634, 192.02000427, 192.02000427],\n",
              "        [191.41000366, 192.66999817, 192.66999817],\n",
              "        [189.25999451, 189.99000549, 189.99000549],\n",
              "        [189.16000366, 189.30000305, 189.30000305]],\n",
              "\n",
              "       [[189.83999634, 192.02000427, 192.02000427],\n",
              "        [191.41000366, 192.66999817, 192.66999817],\n",
              "        [189.25999451, 189.99000549, 189.99000549],\n",
              "        [189.16000366, 189.30000305, 189.30000305],\n",
              "        [189.67999268, 191.69999695, 191.69999695]]])"
            ]
          },
          "metadata": {},
          "execution_count": 855
        }
      ]
    },
    {
      "cell_type": "code",
      "source": [
        "y_test"
      ],
      "metadata": {
        "colab": {
          "base_uri": "https://localhost:8080/"
        },
        "id": "ktxZGqIApswM",
        "outputId": "0386b464-a417-4957-b36e-079907b6cc7f"
      },
      "execution_count": null,
      "outputs": [
        {
          "output_type": "execute_result",
          "data": {
            "text/plain": [
              "array([176.1499939 , 174.8999939 , 173.74000549, 169.86000061,\n",
              "       168.71000671, 168.11000061, 170.13999939, 171.05000305,\n",
              "       162.8999939 , 162.55999756, 160.58000183, 158.41999817,\n",
              "       160.36000061, 157.08999634, 156.66999817, 156.36000061,\n",
              "       157.82000732, 164.25999451, 160.53999329, 157.1000061 ,\n",
              "       155.24000549, 151.3500061 , 154.55999756, 158.08000183,\n",
              "       158.74000549, 154.47000122, 151.47000122, 153.77000427,\n",
              "       154.72000122, 150.63999939, 146.72000122, 143.1000061 ,\n",
              "       143.07000732, 146.22000122, 147.38000488, 147.53999329,\n",
              "       143.1000061 , 141.88999939, 141.3500061 , 140.36000061,\n",
              "       143.58999634, 144.52000427, 142.8999939 , 146.69999695,\n",
              "       144.94999695, 145.88999939, 147.8500061 , 150.22999573,\n",
              "       152.49000549, 151.99000549, 149.05000305, 157.5       ,\n",
              "       154.24000549, 155.44999695, 152.16999817, 142.80000305,\n",
              "       142.66999817, 139.1499939 , 141.42999268, 138.55000305,\n",
              "       146.86999512, 150.00999451, 150.27999878, 153.58999634,\n",
              "       149.86999512, 151.47999573, 152.69999695, 150.36999512,\n",
              "       150.41999817, 151.83000183, 148.88000488, 146.63999939,\n",
              "       144.80999756, 148.72000122, 149.13000488, 148.        ,\n",
              "       150.91999817, 147.30000305, 143.36999512, 143.52000427,\n",
              "       145.57000732, 144.5       , 149.97000122, 146.66000366,\n",
              "       141.80000305, 137.6499939 , 135.19999695, 133.25      ,\n",
              "       136.80999756, 134.55999756, 132.41999817, 131.41000366,\n",
              "       131.02999878, 130.47999573, 129.94999695, 130.8999939 ,\n",
              "       128.66000366, 127.76999664, 130.28999329, 133.41000366,\n",
              "       131.25999451, 133.50999451, 134.25999451, 134.91999817,\n",
              "       137.28999329, 138.61000061, 136.25      , 138.02000427,\n",
              "       143.32000732, 143.16000366, 142.42999268, 144.25      ,\n",
              "       147.22999573, 145.55000305, 144.33999634, 146.61000061,\n",
              "       151.17999268, 157.38000488, 153.1000061 , 155.22999573,\n",
              "       154.58000183, 154.33000183, 151.33999634, 154.25999451,\n",
              "       153.77000427, 155.5       , 156.33000183, 153.        ,\n",
              "       151.30000305, 149.94999695, 150.33999634, 147.19000244,\n",
              "       149.16999817, 149.08000183, 147.22999573, 146.71000671,\n",
              "       151.11000061, 156.30000305, 154.02999878, 153.47000122,\n",
              "       154.53999329, 150.94000244, 153.13999939, 153.3999939 ,\n",
              "       153.25      , 156.46000671, 156.74000549, 157.82000732,\n",
              "       159.3999939 , 162.13999939, 161.55000305, 160.33999634,\n",
              "       160.77000427, 158.49000549, 161.05000305, 162.47000122,\n",
              "       165.        , 166.28999329, 166.83999634, 165.05000305,\n",
              "       164.96000671, 162.02999878, 162.36000061, 162.05999756,\n",
              "       165.80000305, 166.32000732, 165.38999939, 167.41000366,\n",
              "       168.16000366, 167.86999512, 166.44999695, 165.6000061 ,\n",
              "       166.30999756, 165.27999878, 168.55999756, 169.8500061 ,\n",
              "       170.44999695, 170.3500061 , 170.91999817, 167.03999329,\n",
              "       174.30000305, 173.8500061 , 173.53999329, 174.02999878,\n",
              "       174.58999634, 174.05999756, 173.21000671, 173.13999939,\n",
              "       172.92999268, 175.24000549, 176.38999939, 174.71000671,\n",
              "       173.38000488, 172.41999817, 173.8999939 , 175.77000427,\n",
              "       178.99000549, 179.3500061 , 180.11999512, 181.77999878,\n",
              "       184.94999695, 180.11999512, 181.21000671, 180.83999634,\n",
              "       182.22999573, 183.88999939, 184.1499939 , 184.38999939,\n",
              "       186.52000427, 186.99000549, 186.1000061 , 185.41000366,\n",
              "       187.05000305, 187.55999756, 188.05000305, 188.38999939,\n",
              "       189.8999939 , 190.07000732, 194.47999573, 193.88000488,\n",
              "       192.97999573, 192.02000427, 192.66999817, 189.99000549,\n",
              "       189.30000305, 191.69999695])"
            ]
          },
          "metadata": {},
          "execution_count": 856
        }
      ]
    },
    {
      "cell_type": "code",
      "source": [
        "x_train.shape"
      ],
      "metadata": {
        "colab": {
          "base_uri": "https://localhost:8080/"
        },
        "id": "y8Gv3-3Jp0C6",
        "outputId": "573194d1-e2f3-4657-8ea6-f7cd7816da2c"
      },
      "execution_count": null,
      "outputs": [
        {
          "output_type": "execute_result",
          "data": {
            "text/plain": [
              "(3229, 5, 3)"
            ]
          },
          "metadata": {},
          "execution_count": 857
        }
      ]
    },
    {
      "cell_type": "code",
      "source": [
        "feature = x_train.shape[2]\n",
        "feature"
      ],
      "metadata": {
        "colab": {
          "base_uri": "https://localhost:8080/"
        },
        "id": "HiKC2ZlFp4co",
        "outputId": "fb7f40c1-62d0-4046-a096-e4ac0c575d02"
      },
      "execution_count": null,
      "outputs": [
        {
          "output_type": "execute_result",
          "data": {
            "text/plain": [
              "3"
            ]
          },
          "metadata": {},
          "execution_count": 858
        }
      ]
    },
    {
      "cell_type": "code",
      "source": [
        "model = Sequential()\n",
        "model.add(LSTM(128,activation='relu',input_shape=(n_steps,feature),return_sequences=True,recurrent_dropout=0.3))\n",
        "model.add(Dropout(0.2))\n",
        "model.add(LSTM(25,activation='relu',input_shape=(n_steps,feature),recurrent_dropout=0.3))\n",
        "model.add(Dropout(0.3))\n",
        "model.add(Dense(1,activation='relu'))\n",
        "model.add(Dense(1,activation='relu'))"
      ],
      "metadata": {
        "id": "Fv0666DgeICW"
      },
      "execution_count": null,
      "outputs": []
    },
    {
      "cell_type": "code",
      "source": [
        "model.summary()"
      ],
      "metadata": {
        "colab": {
          "base_uri": "https://localhost:8080/"
        },
        "id": "ey0STFJZxyhH",
        "outputId": "02e8ca19-372d-4d42-8f4f-8eee51ffecb6"
      },
      "execution_count": null,
      "outputs": [
        {
          "output_type": "stream",
          "name": "stdout",
          "text": [
            "Model: \"sequential_37\"\n",
            "_________________________________________________________________\n",
            " Layer (type)                Output Shape              Param #   \n",
            "=================================================================\n",
            " lstm_79 (LSTM)              (None, 5, 128)            67584     \n",
            "                                                                 \n",
            " dropout_74 (Dropout)        (None, 5, 128)            0         \n",
            "                                                                 \n",
            " lstm_80 (LSTM)              (None, 25)                15400     \n",
            "                                                                 \n",
            " dropout_75 (Dropout)        (None, 25)                0         \n",
            "                                                                 \n",
            " dense_63 (Dense)            (None, 1)                 26        \n",
            "                                                                 \n",
            " dense_64 (Dense)            (None, 1)                 2         \n",
            "                                                                 \n",
            "=================================================================\n",
            "Total params: 83,012\n",
            "Trainable params: 83,012\n",
            "Non-trainable params: 0\n",
            "_________________________________________________________________\n"
          ]
        }
      ]
    },
    {
      "cell_type": "code",
      "source": [
        "model.compile(loss='mape',optimizer='RMSprop',metrics=['mae'])"
      ],
      "metadata": {
        "id": "NPQvthVDwQ1n"
      },
      "execution_count": null,
      "outputs": []
    },
    {
      "cell_type": "code",
      "source": [
        "history = model.fit(x_train,y_train,epochs=70,verbose=2,batch_size=70,validation_split=0.2)"
      ],
      "metadata": {
        "colab": {
          "base_uri": "https://localhost:8080/"
        },
        "id": "ZvTNe92Zqb8I",
        "outputId": "cb628d88-6ab0-4051-ca33-fe8f0cfd6e25"
      },
      "execution_count": null,
      "outputs": [
        {
          "output_type": "stream",
          "name": "stdout",
          "text": [
            "Epoch 1/70\n",
            "37/37 - 7s - loss: 32.9972 - mae: 9.5346 - val_loss: 3.8045 - val_mae: 5.2600 - 7s/epoch - 201ms/step\n",
            "Epoch 2/70\n",
            "37/37 - 1s - loss: 22.6800 - mae: 6.6119 - val_loss: 4.3324 - val_mae: 5.9349 - 1s/epoch - 29ms/step\n",
            "Epoch 3/70\n",
            "37/37 - 1s - loss: 20.3165 - mae: 5.8765 - val_loss: 7.8513 - val_mae: 10.7480 - 1s/epoch - 29ms/step\n",
            "Epoch 4/70\n",
            "37/37 - 1s - loss: 20.5409 - mae: 6.0610 - val_loss: 2.7962 - val_mae: 3.8434 - 1s/epoch - 29ms/step\n",
            "Epoch 5/70\n",
            "37/37 - 1s - loss: 19.2630 - mae: 5.6072 - val_loss: 10.2634 - val_mae: 13.8010 - 1s/epoch - 29ms/step\n",
            "Epoch 6/70\n",
            "37/37 - 1s - loss: 19.0613 - mae: 5.4928 - val_loss: 4.5449 - val_mae: 6.1644 - 1s/epoch - 28ms/step\n",
            "Epoch 7/70\n",
            "37/37 - 2s - loss: 18.9924 - mae: 5.4834 - val_loss: 12.0319 - val_mae: 16.3888 - 2s/epoch - 42ms/step\n",
            "Epoch 8/70\n",
            "37/37 - 1s - loss: 18.3068 - mae: 5.2711 - val_loss: 7.3683 - val_mae: 10.0562 - 1s/epoch - 39ms/step\n",
            "Epoch 9/70\n",
            "37/37 - 1s - loss: 17.7543 - mae: 5.1425 - val_loss: 2.1889 - val_mae: 2.9926 - 1s/epoch - 32ms/step\n",
            "Epoch 10/70\n",
            "37/37 - 1s - loss: 17.4180 - mae: 5.0698 - val_loss: 9.6918 - val_mae: 13.1625 - 1s/epoch - 28ms/step\n",
            "Epoch 11/70\n",
            "37/37 - 1s - loss: 17.3043 - mae: 5.0224 - val_loss: 9.5450 - val_mae: 12.9516 - 1s/epoch - 33ms/step\n",
            "Epoch 12/70\n",
            "37/37 - 1s - loss: 17.4335 - mae: 5.0612 - val_loss: 5.7394 - val_mae: 7.7535 - 1s/epoch - 33ms/step\n",
            "Epoch 13/70\n",
            "37/37 - 1s - loss: 17.5614 - mae: 5.1394 - val_loss: 7.6614 - val_mae: 10.4249 - 1s/epoch - 31ms/step\n",
            "Epoch 14/70\n",
            "37/37 - 1s - loss: 17.2419 - mae: 4.9851 - val_loss: 3.5246 - val_mae: 4.7996 - 1s/epoch - 28ms/step\n",
            "Epoch 15/70\n",
            "37/37 - 1s - loss: 17.3516 - mae: 5.0474 - val_loss: 2.2819 - val_mae: 3.1153 - 1s/epoch - 28ms/step\n",
            "Epoch 16/70\n",
            "37/37 - 1s - loss: 16.5996 - mae: 4.7478 - val_loss: 4.5165 - val_mae: 6.0769 - 1s/epoch - 29ms/step\n",
            "Epoch 17/70\n",
            "37/37 - 2s - loss: 17.3224 - mae: 5.0026 - val_loss: 3.9856 - val_mae: 5.4099 - 2s/epoch - 47ms/step\n",
            "Epoch 18/70\n",
            "37/37 - 1s - loss: 16.8581 - mae: 4.8396 - val_loss: 4.0361 - val_mae: 5.4624 - 1s/epoch - 30ms/step\n",
            "Epoch 19/70\n",
            "37/37 - 1s - loss: 16.2648 - mae: 4.7456 - val_loss: 10.9783 - val_mae: 14.9203 - 1s/epoch - 29ms/step\n",
            "Epoch 20/70\n",
            "37/37 - 1s - loss: 16.5291 - mae: 4.8076 - val_loss: 5.2866 - val_mae: 7.2000 - 1s/epoch - 32ms/step\n",
            "Epoch 21/70\n",
            "37/37 - 1s - loss: 16.2211 - mae: 4.7273 - val_loss: 10.4300 - val_mae: 14.2412 - 1s/epoch - 29ms/step\n",
            "Epoch 22/70\n",
            "37/37 - 1s - loss: 15.9458 - mae: 4.5563 - val_loss: 9.4314 - val_mae: 12.8364 - 1s/epoch - 28ms/step\n",
            "Epoch 23/70\n",
            "37/37 - 1s - loss: 15.9712 - mae: 4.6806 - val_loss: 10.3637 - val_mae: 14.1119 - 1s/epoch - 29ms/step\n",
            "Epoch 24/70\n",
            "37/37 - 1s - loss: 16.3417 - mae: 4.8092 - val_loss: 8.6702 - val_mae: 11.8474 - 1s/epoch - 31ms/step\n",
            "Epoch 25/70\n",
            "37/37 - 1s - loss: 16.1766 - mae: 4.6525 - val_loss: 5.7876 - val_mae: 7.9178 - 1s/epoch - 28ms/step\n",
            "Epoch 26/70\n",
            "37/37 - 1s - loss: 15.8090 - mae: 4.6053 - val_loss: 5.7379 - val_mae: 7.7949 - 1s/epoch - 29ms/step\n",
            "Epoch 27/70\n",
            "37/37 - 2s - loss: 15.9402 - mae: 4.6101 - val_loss: 2.9705 - val_mae: 4.0076 - 2s/epoch - 41ms/step\n",
            "Epoch 28/70\n",
            "37/37 - 1s - loss: 15.9409 - mae: 4.6054 - val_loss: 8.0941 - val_mae: 10.9560 - 1s/epoch - 37ms/step\n",
            "Epoch 29/70\n",
            "37/37 - 1s - loss: 15.7294 - mae: 4.5522 - val_loss: 15.2748 - val_mae: 20.7544 - 1s/epoch - 29ms/step\n",
            "Epoch 30/70\n",
            "37/37 - 1s - loss: 15.6358 - mae: 4.5946 - val_loss: 5.2527 - val_mae: 7.1479 - 1s/epoch - 28ms/step\n",
            "Epoch 31/70\n",
            "37/37 - 1s - loss: 15.5251 - mae: 4.5342 - val_loss: 10.0518 - val_mae: 13.6756 - 1s/epoch - 30ms/step\n",
            "Epoch 32/70\n",
            "37/37 - 1s - loss: 15.5114 - mae: 4.5645 - val_loss: 2.5417 - val_mae: 3.4576 - 1s/epoch - 29ms/step\n",
            "Epoch 33/70\n",
            "37/37 - 1s - loss: 15.1320 - mae: 4.3621 - val_loss: 2.3920 - val_mae: 3.2469 - 1s/epoch - 30ms/step\n",
            "Epoch 34/70\n",
            "37/37 - 1s - loss: 14.9666 - mae: 4.3373 - val_loss: 9.6550 - val_mae: 13.1058 - 1s/epoch - 28ms/step\n",
            "Epoch 35/70\n",
            "37/37 - 1s - loss: 15.2655 - mae: 4.5641 - val_loss: 3.5394 - val_mae: 4.8195 - 1s/epoch - 32ms/step\n",
            "Epoch 36/70\n",
            "37/37 - 1s - loss: 14.9882 - mae: 4.3583 - val_loss: 20.6266 - val_mae: 28.0624 - 1s/epoch - 30ms/step\n",
            "Epoch 37/70\n",
            "37/37 - 2s - loss: 15.1474 - mae: 4.4211 - val_loss: 15.3154 - val_mae: 20.7683 - 2s/epoch - 41ms/step\n",
            "Epoch 38/70\n",
            "37/37 - 1s - loss: 15.1302 - mae: 4.3793 - val_loss: 11.3825 - val_mae: 15.4744 - 1s/epoch - 38ms/step\n",
            "Epoch 39/70\n",
            "37/37 - 1s - loss: 14.9031 - mae: 4.3594 - val_loss: 18.6752 - val_mae: 25.4259 - 1s/epoch - 32ms/step\n",
            "Epoch 40/70\n",
            "37/37 - 1s - loss: 14.6164 - mae: 4.3336 - val_loss: 8.7492 - val_mae: 11.9423 - 1s/epoch - 29ms/step\n",
            "Epoch 41/70\n",
            "37/37 - 1s - loss: 14.4805 - mae: 4.1858 - val_loss: 2.4949 - val_mae: 3.4214 - 1s/epoch - 28ms/step\n",
            "Epoch 42/70\n",
            "37/37 - 1s - loss: 14.4381 - mae: 4.2349 - val_loss: 8.6756 - val_mae: 11.8385 - 1s/epoch - 31ms/step\n",
            "Epoch 43/70\n",
            "37/37 - 1s - loss: 14.4041 - mae: 4.2614 - val_loss: 10.4927 - val_mae: 14.2944 - 1s/epoch - 33ms/step\n",
            "Epoch 44/70\n",
            "37/37 - 1s - loss: 14.2632 - mae: 4.1733 - val_loss: 12.9245 - val_mae: 17.6248 - 1s/epoch - 28ms/step\n",
            "Epoch 45/70\n",
            "37/37 - 1s - loss: 14.3455 - mae: 4.2769 - val_loss: 5.0645 - val_mae: 6.9745 - 1s/epoch - 29ms/step\n",
            "Epoch 46/70\n",
            "37/37 - 1s - loss: 14.3489 - mae: 4.1881 - val_loss: 6.8864 - val_mae: 9.4238 - 1s/epoch - 29ms/step\n",
            "Epoch 47/70\n",
            "37/37 - 2s - loss: 13.9694 - mae: 4.1187 - val_loss: 8.2322 - val_mae: 11.2110 - 2s/epoch - 42ms/step\n",
            "Epoch 48/70\n",
            "37/37 - 1s - loss: 13.6975 - mae: 3.9765 - val_loss: 8.0066 - val_mae: 10.9013 - 1s/epoch - 37ms/step\n",
            "Epoch 49/70\n",
            "37/37 - 1s - loss: 14.3093 - mae: 4.1724 - val_loss: 4.9441 - val_mae: 6.7274 - 1s/epoch - 30ms/step\n",
            "Epoch 50/70\n",
            "37/37 - 1s - loss: 14.3171 - mae: 4.2309 - val_loss: 10.5708 - val_mae: 14.3674 - 1s/epoch - 29ms/step\n",
            "Epoch 51/70\n",
            "37/37 - 1s - loss: 13.7217 - mae: 4.0126 - val_loss: 9.1782 - val_mae: 12.4997 - 1s/epoch - 28ms/step\n",
            "Epoch 52/70\n",
            "37/37 - 1s - loss: 13.9140 - mae: 4.0860 - val_loss: 3.6818 - val_mae: 5.0305 - 1s/epoch - 28ms/step\n",
            "Epoch 53/70\n",
            "37/37 - 1s - loss: 14.0801 - mae: 4.1335 - val_loss: 8.5923 - val_mae: 11.7149 - 1s/epoch - 29ms/step\n",
            "Epoch 54/70\n",
            "37/37 - 1s - loss: 13.4834 - mae: 3.8845 - val_loss: 11.1405 - val_mae: 15.1749 - 1s/epoch - 29ms/step\n",
            "Epoch 55/70\n",
            "37/37 - 1s - loss: 13.8440 - mae: 4.1173 - val_loss: 12.1946 - val_mae: 16.6042 - 1s/epoch - 31ms/step\n",
            "Epoch 56/70\n",
            "37/37 - 1s - loss: 13.5503 - mae: 3.9618 - val_loss: 5.3437 - val_mae: 7.2890 - 1s/epoch - 28ms/step\n",
            "Epoch 57/70\n",
            "37/37 - 1s - loss: 13.6728 - mae: 4.0375 - val_loss: 16.1683 - val_mae: 22.0106 - 1s/epoch - 39ms/step\n",
            "Epoch 58/70\n",
            "37/37 - 1s - loss: 13.8039 - mae: 4.0786 - val_loss: 11.8501 - val_mae: 16.1373 - 1s/epoch - 40ms/step\n",
            "Epoch 59/70\n",
            "37/37 - 1s - loss: 13.4435 - mae: 3.9234 - val_loss: 5.7086 - val_mae: 7.7118 - 1s/epoch - 29ms/step\n",
            "Epoch 60/70\n",
            "37/37 - 1s - loss: 13.6793 - mae: 4.0170 - val_loss: 7.7914 - val_mae: 10.6086 - 1s/epoch - 29ms/step\n",
            "Epoch 61/70\n",
            "37/37 - 1s - loss: 13.4426 - mae: 3.9229 - val_loss: 3.5807 - val_mae: 4.8221 - 1s/epoch - 28ms/step\n",
            "Epoch 62/70\n",
            "37/37 - 1s - loss: 13.5544 - mae: 3.9856 - val_loss: 5.1639 - val_mae: 7.0203 - 1s/epoch - 29ms/step\n",
            "Epoch 63/70\n",
            "37/37 - 1s - loss: 13.3205 - mae: 3.8933 - val_loss: 5.6970 - val_mae: 7.7915 - 1s/epoch - 29ms/step\n",
            "Epoch 64/70\n",
            "37/37 - 1s - loss: 13.2273 - mae: 3.8984 - val_loss: 2.3039 - val_mae: 3.1398 - 1s/epoch - 28ms/step\n",
            "Epoch 65/70\n",
            "37/37 - 1s - loss: 13.4196 - mae: 3.9626 - val_loss: 3.9726 - val_mae: 5.3969 - 1s/epoch - 28ms/step\n",
            "Epoch 66/70\n",
            "37/37 - 1s - loss: 13.4869 - mae: 3.9346 - val_loss: 5.7076 - val_mae: 7.7875 - 1s/epoch - 28ms/step\n",
            "Epoch 67/70\n",
            "37/37 - 1s - loss: 13.2258 - mae: 3.9017 - val_loss: 11.8516 - val_mae: 16.1544 - 1s/epoch - 27ms/step\n",
            "Epoch 68/70\n",
            "37/37 - 2s - loss: 13.3498 - mae: 3.9431 - val_loss: 13.6217 - val_mae: 18.5613 - 2s/epoch - 48ms/step\n",
            "Epoch 69/70\n",
            "37/37 - 1s - loss: 13.3639 - mae: 3.9307 - val_loss: 8.5462 - val_mae: 11.6702 - 1s/epoch - 28ms/step\n",
            "Epoch 70/70\n",
            "37/37 - 1s - loss: 13.2489 - mae: 3.9333 - val_loss: 11.3976 - val_mae: 15.5574 - 1s/epoch - 28ms/step\n"
          ]
        }
      ]
    },
    {
      "cell_type": "code",
      "source": [
        "history.history.keys()"
      ],
      "metadata": {
        "id": "iypeqK5W23IW",
        "colab": {
          "base_uri": "https://localhost:8080/"
        },
        "outputId": "c33c8135-93d9-4063-c066-d53478758185"
      },
      "execution_count": null,
      "outputs": [
        {
          "output_type": "execute_result",
          "data": {
            "text/plain": [
              "dict_keys(['loss', 'mae', 'val_loss', 'val_mae'])"
            ]
          },
          "metadata": {},
          "execution_count": 862
        }
      ]
    },
    {
      "cell_type": "code",
      "source": [
        "loss , mae = model.evaluate(x_test,y_test)\n",
        "loss , mae = model.evaluate(x_train,y_train)\n",
        "print(f\"loss{loss}\")\n",
        "print(f\"mae{mae}\")"
      ],
      "metadata": {
        "id": "y9GZVxqbqTxh",
        "colab": {
          "base_uri": "https://localhost:8080/"
        },
        "outputId": "b6d3af62-9d82-412e-b1ff-c9d05d55fd8f"
      },
      "execution_count": null,
      "outputs": [
        {
          "output_type": "stream",
          "name": "stdout",
          "text": [
            "8/8 [==============================] - 0s 6ms/step - loss: 9.8750 - mae: 15.6970\n",
            "101/101 [==============================] - 1s 6ms/step - loss: 5.1509 - mae: 3.7219\n",
            "loss5.150902271270752\n",
            "mae3.721883773803711\n"
          ]
        }
      ]
    },
    {
      "cell_type": "code",
      "source": [
        "plt.figure(figsize=(10,6))\n",
        "#plt.plot(history.history['loss'], color='teal', label='val_mae')\n",
        "plt.plot(history.history['mae'], color='red', label='mae')\n",
        "plt.legend(loc=\"upper left\")\n",
        "plt.show()"
      ],
      "metadata": {
        "id": "am-7-w-M6uld",
        "colab": {
          "base_uri": "https://localhost:8080/",
          "height": 532
        },
        "outputId": "3bc7aa52-8795-4d73-c330-69e318eb5a7c"
      },
      "execution_count": null,
      "outputs": [
        {
          "output_type": "display_data",
          "data": {
            "text/plain": [
              "<Figure size 1000x600 with 1 Axes>"
            ],
            "image/png": "[encoded data removed]"
          },
          "metadata": {}
        }
      ]
    },
    {
      "cell_type": "code",
      "source": [
        "plt.subplot()\n",
        "#plt.plot(history.history['val_loss'], color='blue', label='val_loss')\n",
        "plt.plot(history.history['loss'], color='blue', label='loss')\n",
        "plt.legend(loc=\"upper left\")\n",
        "plt.show()"
      ],
      "metadata": {
        "id": "7wPTdaE5vQYq",
        "colab": {
          "base_uri": "https://localhost:8080/",
          "height": 440
        },
        "outputId": "b6029e4c-3b03-4b5a-805e-6aae32060af5"
      },
      "execution_count": null,
      "outputs": [
        {
          "output_type": "display_data",
          "data": {
            "text/plain": [
              "<Figure size 640x480 with 1 Axes>"
            ],
            "image/png": "[encoded data removed]"
          },
          "metadata": {}
        }
      ]
    },
    {
      "cell_type": "code",
      "source": [
        "x_test"
      ],
      "metadata": {
        "id": "eamRuHAgyCDM",
        "colab": {
          "base_uri": "https://localhost:8080/"
        },
        "outputId": "3dac47bd-393a-4175-ab7f-a277b536a8bd"
      },
      "execution_count": null,
      "outputs": [
        {
          "output_type": "execute_result",
          "data": {
            "text/plain": [
              "array([[[170.05999756, 170.99000549, 170.99000549],\n",
              "        [169.82000732, 172.16999817, 172.16999817],\n",
              "        [171.52000427, 173.38999939, 173.38999939],\n",
              "        [172.77999878, 173.71000671, 173.71000671],\n",
              "        [172.77000427, 176.1499939 , 176.1499939 ]],\n",
              "\n",
              "       [[169.82000732, 172.16999817, 172.16999817],\n",
              "        [171.52000427, 173.38999939, 173.38999939],\n",
              "        [172.77999878, 173.71000671, 173.71000671],\n",
              "        [172.77000427, 176.1499939 , 176.1499939 ],\n",
              "        [173.75      , 174.8999939 , 174.8999939 ]],\n",
              "\n",
              "       [[171.52000427, 173.38999939, 173.38999939],\n",
              "        [172.77999878, 173.71000671, 173.71000671],\n",
              "        [172.77000427, 176.1499939 , 176.1499939 ],\n",
              "        [173.75      , 174.8999939 , 174.8999939 ],\n",
              "        [173.02999878, 173.74000549, 173.74000549]],\n",
              "\n",
              "       ...,\n",
              "\n",
              "       [[193.77999878, 193.88000488, 193.88000488],\n",
              "        [191.57000732, 192.97999573, 192.97999573],\n",
              "        [189.83999634, 192.02000427, 192.02000427],\n",
              "        [191.41000366, 192.66999817, 192.66999817],\n",
              "        [189.25999451, 189.99000549, 189.99000549]],\n",
              "\n",
              "       [[191.57000732, 192.97999573, 192.97999573],\n",
              "        [189.83999634, 192.02000427, 192.02000427],\n",
              "        [191.41000366, 192.66999817, 192.66999817],\n",
              "        [189.25999451, 189.99000549, 189.99000549],\n",
              "        [189.16000366, 189.30000305, 189.30000305]],\n",
              "\n",
              "       [[189.83999634, 192.02000427, 192.02000427],\n",
              "        [191.41000366, 192.66999817, 192.66999817],\n",
              "        [189.25999451, 189.99000549, 189.99000549],\n",
              "        [189.16000366, 189.30000305, 189.30000305],\n",
              "        [189.67999268, 191.69999695, 191.69999695]]])"
            ]
          },
          "metadata": {},
          "execution_count": 866
        }
      ]
    },
    {
      "cell_type": "code",
      "source": [
        "pred = model.predict(x_test)\n",
        "pred"
      ],
      "metadata": {
        "id": "BxRZP2MTwnB8",
        "colab": {
          "base_uri": "https://localhost:8080/"
        },
        "outputId": "77be701c-e1f8-4dd9-90c3-1534b8aed9d4"
      },
      "execution_count": null,
      "outputs": [
        {
          "output_type": "stream",
          "name": "stdout",
          "text": [
            "8/8 [==============================] - 1s 6ms/step\n"
          ]
        },
        {
          "output_type": "execute_result",
          "data": {
            "text/plain": [
              "array([[155.51923 ],\n",
              "       [156.15057 ],\n",
              "       [156.66127 ],\n",
              "       [156.28041 ],\n",
              "       [156.28072 ],\n",
              "       [155.0601  ],\n",
              "       [154.11456 ],\n",
              "       [152.87877 ],\n",
              "       [151.10397 ],\n",
              "       [151.0381  ],\n",
              "       [150.291   ],\n",
              "       [148.46434 ],\n",
              "       [145.90454 ],\n",
              "       [144.50479 ],\n",
              "       [143.48259 ],\n",
              "       [142.59941 ],\n",
              "       [142.77502 ],\n",
              "       [142.87863 ],\n",
              "       [142.49846 ],\n",
              "       [142.59122 ],\n",
              "       [143.3241  ],\n",
              "       [143.51187 ],\n",
              "       [141.57797 ],\n",
              "       [140.5207  ],\n",
              "       [140.02646 ],\n",
              "       [138.81361 ],\n",
              "       [140.00792 ],\n",
              "       [140.79506 ],\n",
              "       [140.3162  ],\n",
              "       [137.84766 ],\n",
              "       [136.64232 ],\n",
              "       [136.02994 ],\n",
              "       [134.70253 ],\n",
              "       [132.99721 ],\n",
              "       [131.20987 ],\n",
              "       [130.74002 ],\n",
              "       [130.65733 ],\n",
              "       [131.46635 ],\n",
              "       [131.12408 ],\n",
              "       [130.00742 ],\n",
              "       [128.41765 ],\n",
              "       [128.6805  ],\n",
              "       [128.08734 ],\n",
              "       [129.3468  ],\n",
              "       [130.01384 ],\n",
              "       [130.87187 ],\n",
              "       [130.97623 ],\n",
              "       [132.65208 ],\n",
              "       [133.04596 ],\n",
              "       [134.09901 ],\n",
              "       [134.92735 ],\n",
              "       [137.19518 ],\n",
              "       [137.64378 ],\n",
              "       [138.07074 ],\n",
              "       [137.3782  ],\n",
              "       [138.26027 ],\n",
              "       [136.38976 ],\n",
              "       [134.12193 ],\n",
              "       [131.61072 ],\n",
              "       [127.75392 ],\n",
              "       [128.64716 ],\n",
              "       [128.7091  ],\n",
              "       [130.25537 ],\n",
              "       [131.90175 ],\n",
              "       [134.47313 ],\n",
              "       [136.04428 ],\n",
              "       [136.88362 ],\n",
              "       [136.91304 ],\n",
              "       [136.03688 ],\n",
              "       [136.80081 ],\n",
              "       [136.36517 ],\n",
              "       [135.16118 ],\n",
              "       [134.64673 ],\n",
              "       [134.49489 ],\n",
              "       [133.6067  ],\n",
              "       [132.5793  ],\n",
              "       [133.28967 ],\n",
              "       [134.05124 ],\n",
              "       [133.50485 ],\n",
              "       [133.03555 ],\n",
              "       [133.04222 ],\n",
              "       [131.18721 ],\n",
              "       [131.42012 ],\n",
              "       [131.05548 ],\n",
              "       [131.37714 ],\n",
              "       [130.58578 ],\n",
              "       [130.40651 ],\n",
              "       [127.24793 ],\n",
              "       [125.07441 ],\n",
              "       [122.93105 ],\n",
              "       [121.61815 ],\n",
              "       [121.16599 ],\n",
              "       [121.38808 ],\n",
              "       [120.03777 ],\n",
              "       [119.03304 ],\n",
              "       [118.73558 ],\n",
              "       [117.92643 ],\n",
              "       [117.64131 ],\n",
              "       [117.569405],\n",
              "       [118.176994],\n",
              "       [117.36494 ],\n",
              "       [118.24638 ],\n",
              "       [119.68538 ],\n",
              "       [120.637436],\n",
              "       [121.13147 ],\n",
              "       [122.393394],\n",
              "       [122.58814 ],\n",
              "       [123.62796 ],\n",
              "       [125.2943  ],\n",
              "       [125.826454],\n",
              "       [125.9793  ],\n",
              "       [127.83081 ],\n",
              "       [129.9172  ],\n",
              "       [130.1233  ],\n",
              "       [130.19965 ],\n",
              "       [131.455   ],\n",
              "       [133.01204 ],\n",
              "       [133.60492 ],\n",
              "       [134.13268 ],\n",
              "       [136.2574  ],\n",
              "       [138.48439 ],\n",
              "       [139.96625 ],\n",
              "       [138.3875  ],\n",
              "       [139.35207 ],\n",
              "       [138.80336 ],\n",
              "       [138.81277 ],\n",
              "       [138.49725 ],\n",
              "       [139.10493 ],\n",
              "       [138.87393 ],\n",
              "       [138.82294 ],\n",
              "       [138.34914 ],\n",
              "       [136.22232 ],\n",
              "       [135.70714 ],\n",
              "       [134.94284 ],\n",
              "       [134.48044 ],\n",
              "       [133.4502  ],\n",
              "       [134.65694 ],\n",
              "       [135.5246  ],\n",
              "       [135.20958 ],\n",
              "       [136.31741 ],\n",
              "       [138.5731  ],\n",
              "       [139.16841 ],\n",
              "       [138.50456 ],\n",
              "       [138.32779 ],\n",
              "       [138.13115 ],\n",
              "       [137.90541 ],\n",
              "       [139.0598  ],\n",
              "       [139.65474 ],\n",
              "       [140.70335 ],\n",
              "       [142.50523 ],\n",
              "       [143.00092 ],\n",
              "       [143.79984 ],\n",
              "       [144.77356 ],\n",
              "       [145.0059  ],\n",
              "       [145.09636 ],\n",
              "       [144.94278 ],\n",
              "       [145.50537 ],\n",
              "       [145.8155  ],\n",
              "       [147.45212 ],\n",
              "       [148.14111 ],\n",
              "       [149.12059 ],\n",
              "       [149.0018  ],\n",
              "       [148.75612 ],\n",
              "       [147.62906 ],\n",
              "       [147.72632 ],\n",
              "       [147.22112 ],\n",
              "       [147.56927 ],\n",
              "       [148.49866 ],\n",
              "       [149.8807  ],\n",
              "       [150.2481  ],\n",
              "       [150.07625 ],\n",
              "       [150.62718 ],\n",
              "       [150.70409 ],\n",
              "       [150.0415  ],\n",
              "       [150.12286 ],\n",
              "       [150.27338 ],\n",
              "       [150.88097 ],\n",
              "       [151.38197 ],\n",
              "       [152.85162 ],\n",
              "       [152.66594 ],\n",
              "       [154.21715 ],\n",
              "       [153.86522 ],\n",
              "       [154.34048 ],\n",
              "       [154.34459 ],\n",
              "       [156.81232 ],\n",
              "       [156.65561 ],\n",
              "       [156.56755 ],\n",
              "       [156.65277 ],\n",
              "       [156.6037  ],\n",
              "       [156.64314 ],\n",
              "       [156.75064 ],\n",
              "       [156.59094 ],\n",
              "       [156.86855 ],\n",
              "       [157.31747 ],\n",
              "       [157.48007 ],\n",
              "       [156.87775 ],\n",
              "       [157.25812 ],\n",
              "       [157.5416  ],\n",
              "       [158.94807 ],\n",
              "       [160.6456  ],\n",
              "       [162.47064 ],\n",
              "       [162.27483 ],\n",
              "       [163.15591 ],\n",
              "       [163.57481 ],\n",
              "       [164.25362 ],\n",
              "       [163.00195 ],\n",
              "       [163.73618 ],\n",
              "       [164.1698  ],\n",
              "       [165.32652 ],\n",
              "       [166.28548 ],\n",
              "       [166.42975 ],\n",
              "       [166.91084 ],\n",
              "       [167.68146 ],\n",
              "       [167.86668 ],\n",
              "       [167.7568  ],\n",
              "       [167.8609  ],\n",
              "       [168.95018 ],\n",
              "       [169.38866 ],\n",
              "       [170.65457 ],\n",
              "       [171.2288  ],\n",
              "       [172.0929  ],\n",
              "       [172.62961 ],\n",
              "       [174.0169  ],\n",
              "       [173.0232  ],\n",
              "       [172.44641 ],\n",
              "       [172.22745 ]], dtype=float32)"
            ]
          },
          "metadata": {},
          "execution_count": 867
        }
      ]
    },
    {
      "cell_type": "code",
      "source": [
        "\n",
        "plt.plot(y_test, 'b',color = 'blue', label='Training loss')\n",
        "plt.plot(pred, 'b',color='red', label='Validation loss')\n",
        "#plt.plot( df,color='blue', label='close')\n",
        "plt.rc('font', size = 18)\n",
        "plt.title('Training and validation loss')\n",
        "plt.xlabel('Epochs')\n",
        "plt.ylabel('Loss')\n",
        "plt.legend()\n",
        "#plt.xticks()\n",
        "fig = plt.gcf()\n",
        "fig.set_size_inches(12,6)\n",
        "plt.show()"
      ],
      "metadata": {
        "id": "RZQKb-_QwDI5",
        "colab": {
          "base_uri": "https://localhost:8080/",
          "height": 662
        },
        "outputId": "e4f951b8-4575-4d11-b631-3ad24fbc5c1e"
      },
      "execution_count": 926,
      "outputs": [
        {
          "output_type": "stream",
          "name": "stderr",
          "text": [
            "<ipython-input-926-c9f033be76b3>:1: UserWarning: color is redundantly defined by the 'color' keyword argument and the fmt string \"b\" (-> color=(0.0, 0.0, 1.0, 1)). The keyword argument will take precedence.\n",
            "  plt.plot(y_test, 'b',color = 'blue', label='Training loss')\n",
            "<ipython-input-926-c9f033be76b3>:2: UserWarning: color is redundantly defined by the 'color' keyword argument and the fmt string \"b\" (-> color=(0.0, 0.0, 1.0, 1)). The keyword argument will take precedence.\n",
            "  plt.plot(pred, 'b',color='red', label='Validation loss')\n"
          ]
        },
        {
          "output_type": "display_data",
          "data": {
            "text/plain": [
              "<Figure size 1200x600 with 1 Axes>"
            ],
            "image/png": "[encoded data removed]"
          },
          "metadata": {}
        }
      ]
    },
    {
      "cell_type": "code",
      "source": [
        "pred2 = model.predict(x_train)\n",
        "pred2"
      ],
      "metadata": {
        "id": "udByQEsnN6w4",
        "colab": {
          "base_uri": "https://localhost:8080/"
        },
        "outputId": "476a0014-3893-4f5d-b2d5-108e14a5d058"
      },
      "execution_count": null,
      "outputs": [
        {
          "output_type": "stream",
          "name": "stdout",
          "text": [
            "101/101 [==============================] - 1s 7ms/step\n"
          ]
        },
        {
          "output_type": "execute_result",
          "data": {
            "text/plain": [
              "array([[  7.850209],\n",
              "       [  7.836158],\n",
              "       [  7.79873 ],\n",
              "       ...,\n",
              "       [136.28313 ],\n",
              "       [135.30856 ],\n",
              "       [135.8808  ]], dtype=float32)"
            ]
          },
          "metadata": {},
          "execution_count": 869
        }
      ]
    },
    {
      "cell_type": "code",
      "source": [
        "plt.figure(figsize=(15,5))\n",
        "plt.title('Model')\n",
        "plt.xlabel('Date',fontsize=10)\n",
        "plt.ylabel('Close Price USD($)',fontsize=10)\n",
        "plt.plot(pred2,color='white',label='predictio')\n",
        "plt.plot(y_train,color='red',label='y)train')\n",
        "plt.legend()"
      ],
      "metadata": {
        "id": "-Y7D1IGSN5d0",
        "colab": {
          "base_uri": "https://localhost:8080/",
          "height": 523
        },
        "outputId": "78f56b07-1141-4937-95ff-40c00778da31"
      },
      "execution_count": null,
      "outputs": [
        {
          "output_type": "execute_result",
          "data": {
            "text/plain": [
              "<matplotlib.legend.Legend at 0x7fc228de6830>"
            ]
          },
          "metadata": {},
          "execution_count": 870
        },
        {
          "output_type": "display_data",
          "data": {
            "text/plain": [
              "<Figure size 1500x500 with 1 Axes>"
            ],
            "image/png": "[encoded data removed]"
          },
          "metadata": {}
        }
      ]
    },
    {
      "cell_type": "code",
      "source": [
        "import numpy as np\n"
      ],
      "metadata": {
        "id": "B24oblfTQdkW"
      },
      "execution_count": null,
      "outputs": []
    },
    {
      "cell_type": "code",
      "source": [
        "data = yf.download('AAPL', start='2019-01-01', end=datetime.now())\n",
        "closing_prices = data['Close'].values\n",
        "\n",
        "max_price = np.max(closing_prices)\n",
        "min_price = np.min(closing_prices)\n",
        "normalized_prices = (closing_prices - min_price) / (max_price - min_price)\n",
        "\n",
        "n_steps = 5\n",
        "new_data = []\n",
        "for i in range(len(normalized_prices) - n_steps + 1):\n",
        "    new_data.append(normalized_prices[i:i+n_steps])\n",
        "\n",
        "new_data = np.array(new_data)\n",
        "\n",
        "reshape_shape = (5, 3)\n",
        "required_length = np.prod(reshape_shape)\n",
        "if len(new_data) % required_length != 0:\n",
        "    new_data = new_data[:-(len(new_data) % required_length)]\n",
        "\n",
        "new_data = new_data.reshape(-1, *reshape_shape)\n",
        "\n",
        "predictions = model.predict(new_data)\n",
        "\n",
        "predictions = predictions * (max_price - min_price) + min_price\n",
        "\n",
        "\n",
        "last_closing_price = closing_prices[-1]\n",
        "\n",
        "\n",
        "predicted_price_tomorrow = predictions[-1][0]\n",
        "\n",
        "price_difference = predicted_price_tomorrow - last_closing_price\n",
        "\n",
        "print(\"Last Closing Price:\", last_closing_price)\n",
        "print(\"Predicted Price Tomorrow:\", predicted_price_tomorrow)\n",
        "print(\"Price Difference:\", price_difference)"
      ],
      "metadata": {
        "id": "N6_Uz6mbKOA_",
        "colab": {
          "base_uri": "https://localhost:8080/"
        },
        "outputId": "5207b12c-0263-4d66-a79d-29eccaf6b8f8"
      },
      "execution_count": 925,
      "outputs": [
        {
          "output_type": "stream",
          "name": "stdout",
          "text": [
            "[*********************100%***********************]  1 of 1 completed\n",
            "12/12 [==============================] - 0s 6ms/step\n",
            "Last Closing Price: 189.77000427246094\n",
            "Predicted Price Tomorrow: 340.3009\n",
            "Price Difference: 150.53089904785156\n"
          ]
        }
      ]
    }
  ]
}